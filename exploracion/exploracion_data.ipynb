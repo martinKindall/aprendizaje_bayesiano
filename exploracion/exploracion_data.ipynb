{
 "cells": [
  {
   "cell_type": "markdown",
   "metadata": {},
   "source": [
    "# Proyecto: Clasificación de tópicos de interés\n",
    "\n",
    "## Exploración de datos\n",
    "\n",
    "\n",
    "CC5113 - Aprendizaje Automático Bayesiano\n",
    "\n",
    "Profesor: Pablo Guerrero\n",
    "\n",
    "Autor: Martín Cornejo"
   ]
  },
  {
   "cell_type": "markdown",
   "metadata": {},
   "source": [
    "## Paquetes necesarios"
   ]
  },
  {
   "cell_type": "code",
   "execution_count": 35,
   "metadata": {},
   "outputs": [],
   "source": [
    "import numpy as np\n",
    "import matplotlib.pyplot as plt\n",
    "import pdb\n",
    "import itertools\n",
    "import operator\n",
    "\n",
    "import pandas as pd\n",
    "\n",
    "from nltk.stem.snowball import SpanishStemmer\n",
    "\n",
    "from sklearn.feature_extraction.text import CountVectorizer\n",
    "from sklearn.decomposition import LatentDirichletAllocation\n",
    "from sklearn.feature_extraction.text import TfidfTransformer\n",
    "from sklearn.naive_bayes import BernoulliNB\n",
    "from sklearn.linear_model import SGDClassifier\n",
    "from sklearn.pipeline import Pipeline\n",
    "from sklearn.model_selection import train_test_split\n",
    "\n",
    "import pyLDAvis\n",
    "import pyLDAvis.sklearn\n",
    "pyLDAvis.enable_notebook()"
   ]
  },
  {
   "cell_type": "code",
   "execution_count": 23,
   "metadata": {
    "scrolled": true
   },
   "outputs": [
    {
     "name": "stdout",
     "output_type": "stream",
     "text": [
      "(185, 2)\n"
     ]
    },
    {
     "data": {
      "text/html": [
       "<div>\n",
       "<style scoped>\n",
       "    .dataframe tbody tr th:only-of-type {\n",
       "        vertical-align: middle;\n",
       "    }\n",
       "\n",
       "    .dataframe tbody tr th {\n",
       "        vertical-align: top;\n",
       "    }\n",
       "\n",
       "    .dataframe thead th {\n",
       "        text-align: right;\n",
       "    }\n",
       "</style>\n",
       "<table border=\"1\" class=\"dataframe\">\n",
       "  <thead>\n",
       "    <tr style=\"text-align: right;\">\n",
       "      <th></th>\n",
       "      <th>Texto</th>\n",
       "      <th>Interes</th>\n",
       "    </tr>\n",
       "  </thead>\n",
       "  <tbody>\n",
       "    <tr>\n",
       "      <th>0</th>\n",
       "      <td>Ojalá obliguen a Piñera a cerrar Punta Peuco, ...</td>\n",
       "      <td>False</td>\n",
       "    </tr>\n",
       "    <tr>\n",
       "      <th>1</th>\n",
       "      <td>Piñera para crear base de apoyo moderada a su ...</td>\n",
       "      <td>True</td>\n",
       "    </tr>\n",
       "    <tr>\n",
       "      <th>2</th>\n",
       "      <td>@CNNChile MEMORIA 2014 Adimark: Piñera termina...</td>\n",
       "      <td>True</td>\n",
       "    </tr>\n",
       "    <tr>\n",
       "      <th>3</th>\n",
       "      <td>PPK y Piñera en privado habrían conversado alg...</td>\n",
       "      <td>False</td>\n",
       "    </tr>\n",
       "    <tr>\n",
       "      <th>4</th>\n",
       "      <td>Bachelet entregará el gobierno de Chile a Piñera</td>\n",
       "      <td>True</td>\n",
       "    </tr>\n",
       "  </tbody>\n",
       "</table>\n",
       "</div>"
      ],
      "text/plain": [
       "                                               Texto  Interes\n",
       "0  Ojalá obliguen a Piñera a cerrar Punta Peuco, ...    False\n",
       "1  Piñera para crear base de apoyo moderada a su ...     True\n",
       "2  @CNNChile MEMORIA 2014 Adimark: Piñera termina...     True\n",
       "3  PPK y Piñera en privado habrían conversado alg...    False\n",
       "4   Bachelet entregará el gobierno de Chile a Piñera     True"
      ]
     },
     "execution_count": 23,
     "metadata": {},
     "output_type": "execute_result"
    }
   ],
   "source": [
    "datos=pd.read_csv('data_format.csv')\n",
    "print(datos.shape)\n",
    "datos.head()"
   ]
  },
  {
   "cell_type": "markdown",
   "metadata": {},
   "source": [
    "## Limpiando strings"
   ]
  },
  {
   "cell_type": "markdown",
   "metadata": {},
   "source": [
    "### Reemplazar tildes, caracteres especiales, todo a minúsculas"
   ]
  },
  {
   "cell_type": "code",
   "execution_count": 4,
   "metadata": {},
   "outputs": [
    {
     "name": "stdout",
     "output_type": "stream",
     "text": [
      "0    ojala obliguen a piñera a cerrar punta peuco e...\n",
      "1    piñera para crear base de apoyo moderada a su ...\n",
      "2    cnnchile memoria  adimark piñera termina su go...\n",
      "3    ppk y piñera en privado habrian conversado alg...\n",
      "4     bachelet entregara el gobierno de chile a piñera\n",
      "dtype: object\n"
     ]
    },
    {
     "name": "stderr",
     "output_type": "stream",
     "text": [
      "/usr/local/lib/python3.5/dist-packages/ipykernel_launcher.py:1: DeprecationWarning: \n",
      ".ix is deprecated. Please use\n",
      ".loc for label based indexing or\n",
      ".iloc for positional indexing\n",
      "\n",
      "See the documentation here:\n",
      "http://pandas.pydata.org/pandas-docs/stable/indexing.html#ix-indexer-is-deprecated\n",
      "  \"\"\"Entry point for launching an IPython kernel.\n"
     ]
    }
   ],
   "source": [
    "strings = datos.ix[:,0]\n",
    "\n",
    "def formatear(strings):\n",
    "    tildes = ['á','é','í','ó','ú']\n",
    "    vocales = ['a','e','i','o','u']\n",
    "\n",
    "    # tildes\n",
    "    for idx, vocal in enumerate(vocales):\n",
    "        strings = strings.str.replace(tildes[idx],vocal)\n",
    "\n",
    "    # caracteres especiales menos la ñ\n",
    "    strings = strings.str.replace('[^a-zñA-Z ]', \"\")\n",
    "\n",
    "    # todo a minusculas\n",
    "    strings = pd.Series(list(map(lambda x: x.lower(), strings)))\n",
    "    \n",
    "    return strings\n",
    "\n",
    "def oracionToStrArr(strings):\n",
    "    strings_arr = list(map(lambda x: x.split(), strings))\n",
    "    #pdb.set_trace()\n",
    "    strings_arr = list(itertools.chain.from_iterable(strings_arr))    \n",
    "    return strings_arr\n",
    "\n",
    "print(formatear(strings).head())\n",
    "formated_array_data = oracionToStrArr(formatear(strings))"
   ]
  },
  {
   "cell_type": "markdown",
   "metadata": {},
   "source": [
    "## Funciones auxiliares (conteo y ordenar repetidas)"
   ]
  },
  {
   "cell_type": "code",
   "execution_count": 5,
   "metadata": {},
   "outputs": [],
   "source": [
    "def most_common(str_arr):\n",
    "  # get an iterable of (item, iterable) pairs\n",
    "  SL = sorted((x, i) for i, x in enumerate(str_arr))\n",
    "  list_pairs = []\n",
    "  #print('SL:', SL)\n",
    "  groups = itertools.groupby(SL, key=operator.itemgetter(0))\n",
    "    \n",
    "  # auxiliary function to get \"quality\" for an item\n",
    "  def _auxfun(g):\n",
    "    item, iterable = g\n",
    "    count = 0\n",
    "    min_index = len(str_arr)\n",
    "    for _, where in iterable:\n",
    "      count += 1\n",
    "      min_index = min(min_index, where)\n",
    "    list_pairs.append((item, count))\n",
    "    #print('item %r, count %r, minind %r' % (item, count, min_index))\n",
    "    return count, -min_index\n",
    "\n",
    "  return max(groups, key=_auxfun)[0], list_pairs\n",
    "\n",
    "def aplicar_ordenar_str_arr(func, str_arr):\n",
    "    arr = list(map(func, str_arr))\n",
    "    common, pairs = most_common(arr)\n",
    "    pares_filtrados = list(filter(lambda x: len(x[0]) > 3, pairs))\n",
    "    common_sorted = sorted(pares_filtrados, key=lambda tup: tup[1], reverse=True)\n",
    "    return common_sorted"
   ]
  },
  {
   "cell_type": "markdown",
   "metadata": {},
   "source": [
    "## Separando data por clases"
   ]
  },
  {
   "cell_type": "code",
   "execution_count": 6,
   "metadata": {},
   "outputs": [
    {
     "name": "stderr",
     "output_type": "stream",
     "text": [
      "/usr/local/lib/python3.5/dist-packages/ipykernel_launcher.py:3: DeprecationWarning: \n",
      ".ix is deprecated. Please use\n",
      ".loc for label based indexing or\n",
      ".iloc for positional indexing\n",
      "\n",
      "See the documentation here:\n",
      "http://pandas.pydata.org/pandas-docs/stable/indexing.html#ix-indexer-is-deprecated\n",
      "  This is separate from the ipykernel package so we can avoid doing imports until\n",
      "/usr/local/lib/python3.5/dist-packages/ipykernel_launcher.py:7: DeprecationWarning: \n",
      ".ix is deprecated. Please use\n",
      ".loc for label based indexing or\n",
      ".iloc for positional indexing\n",
      "\n",
      "See the documentation here:\n",
      "http://pandas.pydata.org/pandas-docs/stable/indexing.html#ix-indexer-is-deprecated\n",
      "  import sys\n"
     ]
    }
   ],
   "source": [
    "datos_interes = datos[datos.Interes == True]\n",
    "#print(datos_interes.head())\n",
    "str_interes = datos_interes.ix[:,0]\n",
    "\n",
    "datos_no_interes = datos[datos.Interes == False]\n",
    "#print(datos_no_interes.head())\n",
    "str_no_interes = datos_no_interes.ix[:,0]"
   ]
  },
  {
   "cell_type": "markdown",
   "metadata": {},
   "source": [
    "## Stemming por clases"
   ]
  },
  {
   "cell_type": "code",
   "execution_count": 7,
   "metadata": {},
   "outputs": [
    {
     "data": {
      "text/plain": [
       "0           (piñer, 80)\n",
       "1       (president, 27)\n",
       "2         (sebasti, 23)\n",
       "3            (chil, 21)\n",
       "4        (bachelet, 20)\n",
       "5         (gobiern, 20)\n",
       "6             (mand, 9)\n",
       "7             (este, 8)\n",
       "8          (reunion, 8)\n",
       "9             (esta, 7)\n",
       "10           (activ, 6)\n",
       "11            (asum, 6)\n",
       "12           (cambi, 6)\n",
       "13          (doming, 6)\n",
       "14           (macri, 6)\n",
       "15           (mañan, 6)\n",
       "16            (nuev, 6)\n",
       "17            (pais, 6)\n",
       "18        (asuncion, 5)\n",
       "19           (cierr, 5)\n",
       "20          (derech, 5)\n",
       "21            (lleg, 5)\n",
       "22           (polit, 5)\n",
       "23            (tien, 5)\n",
       "24            (ahor, 4)\n",
       "25            (cerr, 4)\n",
       "26          (chilen, 4)\n",
       "27          (gobern, 4)\n",
       "28           (mejor, 4)\n",
       "29         (oficial, 4)\n",
       "             ...       \n",
       "425        (suramer, 1)\n",
       "426          (tambi, 1)\n",
       "427    (tempranisim, 1)\n",
       "428          (tendr, 1)\n",
       "429           (teng, 1)\n",
       "430          (tiend, 1)\n",
       "431          (titer, 1)\n",
       "432         (todavi, 1)\n",
       "433           (trag, 1)\n",
       "434         (tramit, 1)\n",
       "435           (tras, 1)\n",
       "436      (trasandin, 1)\n",
       "437          (trist, 1)\n",
       "438           (twet, 1)\n",
       "439          (twitt, 1)\n",
       "440        (twitter, 1)\n",
       "441          (ultim, 1)\n",
       "442           (unos, 1)\n",
       "443           (valp, 1)\n",
       "444         (vendet, 1)\n",
       "445    (venezuelaqu, 1)\n",
       "446           (veni, 1)\n",
       "447           (vide, 1)\n",
       "448           (viej, 1)\n",
       "449           (vien, 1)\n",
       "450           (vist, 1)\n",
       "451          (vitor, 1)\n",
       "452          (vuelt, 1)\n",
       "453           (weon, 1)\n",
       "454           (zurd, 1)\n",
       "Length: 455, dtype: object"
      ]
     },
     "execution_count": 7,
     "metadata": {},
     "output_type": "execute_result"
    }
   ],
   "source": [
    "stemmer_es = lambda x: SpanishStemmer().stem(x)\n",
    "\n",
    "stem_interes_ordenado = pd.Series(aplicar_ordenar_str_arr(stemmer_es,oracionToStrArr(formatear(str_interes))))\n",
    "stem_no_interes_ordenado = pd.Series(aplicar_ordenar_str_arr(stemmer_es,oracionToStrArr(formatear(str_no_interes))))\n",
    "\n",
    "stem_interes_ordenado"
   ]
  },
  {
   "cell_type": "code",
   "execution_count": 8,
   "metadata": {},
   "outputs": [
    {
     "data": {
      "text/plain": [
       "0         (piñer, 72)\n",
       "1          (esta, 10)\n",
       "2           (bien, 7)\n",
       "3        (sebasti, 7)\n",
       "4          (cuand, 6)\n",
       "5           (peuc, 6)\n",
       "6           (punt, 6)\n",
       "7           (algo, 5)\n",
       "8           (cerr, 5)\n",
       "9           (chil, 5)\n",
       "10         (culia, 5)\n",
       "11         (quier, 5)\n",
       "12          (ahor, 4)\n",
       "13         (cierr, 4)\n",
       "14          (pier, 4)\n",
       "15     (president, 4)\n",
       "16       (academi, 3)\n",
       "17      (bachelet, 3)\n",
       "18        (derech, 3)\n",
       "19      (diplomat, 3)\n",
       "20          (este, 3)\n",
       "21          (falt, 3)\n",
       "22          (gent, 3)\n",
       "23       (gobiern, 3)\n",
       "24        (ladron, 3)\n",
       "25          (lleg, 3)\n",
       "26         (minim, 3)\n",
       "27          (mism, 3)\n",
       "28         (penal, 3)\n",
       "29       (reajust, 3)\n",
       "            ...      \n",
       "420         (suci, 1)\n",
       "421     (suddenly, 1)\n",
       "422         (suel, 1)\n",
       "423        (sueld, 1)\n",
       "424        (suert, 1)\n",
       "425       (tampoc, 1)\n",
       "426         (tant, 1)\n",
       "427       (termin, 1)\n",
       "428         (tond, 1)\n",
       "429         (toqu, 1)\n",
       "430       (tortur, 1)\n",
       "431        (total, 1)\n",
       "432      (traidor, 1)\n",
       "433       (travaj, 1)\n",
       "434        (trump, 1)\n",
       "435        (twitt, 1)\n",
       "436        (ultim, 1)\n",
       "437      (vacanci, 1)\n",
       "438     (venezuel, 1)\n",
       "439       (ventil, 1)\n",
       "440       (victim, 1)\n",
       "441       (victon, 1)\n",
       "442     (violador, 1)\n",
       "443      (vitacur, 1)\n",
       "444       (volver, 1)\n",
       "445        (volvi, 1)\n",
       "446    (xkjskskfj, 1)\n",
       "447        (ziiii, 1)\n",
       "448         (zorr, 1)\n",
       "449      (zurdosn, 1)\n",
       "Length: 450, dtype: object"
      ]
     },
     "execution_count": 8,
     "metadata": {},
     "output_type": "execute_result"
    }
   ],
   "source": [
    "stem_no_interes_ordenado"
   ]
  },
  {
   "cell_type": "markdown",
   "metadata": {},
   "source": [
    "## Lematización"
   ]
  },
  {
   "cell_type": "code",
   "execution_count": 9,
   "metadata": {},
   "outputs": [],
   "source": [
    "def create_lemma_dict(filename):\n",
    "   with open(filename, 'r') as document:\n",
    "       lemma_dict = {}\n",
    "       for line in document:\n",
    "           if line.strip():  # avoid empty lines\n",
    "               value, key = line.split(None, 1) # 'None' means 'all whitespace', which is the default\n",
    "               key = key.rstrip() # rstrip() to get rid of \\r and \\n\n",
    "               lemma_dict[key] = value # adding the flections as keys to the dict\n",
    "               lemma_dict[value] = value # adding also the base word as a key\n",
    "   return lemma_dict\n",
    "\n",
    "def query_word(lemma_dict):\n",
    "   word = input(\"\\nDame una palabra en español -> \")\n",
    "   try:\n",
    "      lemma = lemma_dict[word]\n",
    "      print(\"__your happy lemma is__: {}\".format(lemma))\n",
    "   except KeyError:\n",
    "      print(\"This word is not in the dictionary!\")\n",
    "   return query_word(lemma_dict)\n",
    "\n",
    "def lemmatiser(dict):\n",
    "    def lookup(word):\n",
    "        try:\n",
    "            lemma = dict[word]\n",
    "        except:\n",
    "            lemma = word\n",
    "        \n",
    "        return lemma\n",
    "    \n",
    "    return lookup"
   ]
  },
  {
   "cell_type": "markdown",
   "metadata": {},
   "source": [
    "## Lematizando por clases"
   ]
  },
  {
   "cell_type": "code",
   "execution_count": 10,
   "metadata": {},
   "outputs": [
    {
     "name": "stderr",
     "output_type": "stream",
     "text": [
      "/usr/local/lib/python3.5/dist-packages/ipykernel_launcher.py:8: DeprecationWarning: \n",
      ".ix is deprecated. Please use\n",
      ".loc for label based indexing or\n",
      ".iloc for positional indexing\n",
      "\n",
      "See the documentation here:\n",
      "http://pandas.pydata.org/pandas-docs/stable/indexing.html#ix-indexer-is-deprecated\n",
      "  \n",
      "/usr/local/lib/python3.5/dist-packages/ipykernel_launcher.py:12: DeprecationWarning: \n",
      ".ix is deprecated. Please use\n",
      ".loc for label based indexing or\n",
      ".iloc for positional indexing\n",
      "\n",
      "See the documentation here:\n",
      "http://pandas.pydata.org/pandas-docs/stable/indexing.html#ix-indexer-is-deprecated\n",
      "  if sys.path[0] == '':\n"
     ]
    }
   ],
   "source": [
    "resource_file = 'lemmatization-es.txt'\n",
    "lemmatiser_es = lemmatiser(create_lemma_dict(resource_file))\n",
    "\n",
    "#pdb.set_trace()\n",
    "\n",
    "datos_interes = datos[datos.Interes == True]\n",
    "#print(datos_interes.head())\n",
    "str_interes = datos_interes.ix[:,0]\n",
    "\n",
    "datos_no_interes = datos[datos.Interes == False]\n",
    "#print(datos_no_interes.head())\n",
    "str_no_interes = datos_no_interes.ix[:,0]"
   ]
  },
  {
   "cell_type": "code",
   "execution_count": 11,
   "metadata": {},
   "outputs": [],
   "source": [
    "lema_interes_ordenado = pd.Series(aplicar_ordenar_str_arr(lemmatiser_es, oracionToStrArr(formatear(str_interes))))\n",
    "lema_no_interes_ordenado = pd.Series(aplicar_ordenar_str_arr(lemmatiser_es, oracionToStrArr(formatear(str_no_interes))))\n",
    "\n",
    "#lema_interes_ordenado"
   ]
  },
  {
   "cell_type": "code",
   "execution_count": 12,
   "metadata": {},
   "outputs": [],
   "source": [
    "#lema_no_interes_ordenado"
   ]
  },
  {
   "cell_type": "markdown",
   "metadata": {},
   "source": [
    "## Tokenizing usando sklearn"
   ]
  },
  {
   "cell_type": "code",
   "execution_count": 13,
   "metadata": {},
   "outputs": [],
   "source": [
    "stop_words_es = np.genfromtxt('stop_words_es.txt', dtype='str')\n",
    "stop_words_es = formatear(pd.Series(stop_words_es))\n",
    "stop_words_es = list(map(lambda x: x, stop_words_es))"
   ]
  },
  {
   "cell_type": "code",
   "execution_count": 14,
   "metadata": {},
   "outputs": [],
   "source": [
    "tf_vectorizer = CountVectorizer(min_df=2, max_features=50, stop_words=stop_words_es)\n",
    "data = formatear(strings)\n",
    "dtm_tf = tf_vectorizer.fit_transform(data)\n",
    "#pdb.set_trace()\n",
    "#True"
   ]
  },
  {
   "cell_type": "markdown",
   "metadata": {},
   "source": [
    "## Aplicando Latent Dirichlet Allocation"
   ]
  },
  {
   "cell_type": "code",
   "execution_count": 15,
   "metadata": {},
   "outputs": [],
   "source": [
    "def print_top_words(model, feature_names, n_top_words):\n",
    "    for topic_idx, topic in enumerate(model.components_):\n",
    "        message = \"Topic #%d: \" % topic_idx\n",
    "        #pdb.set_trace()\n",
    "        message += \" \".join([feature_names[i] + \" \" + str(int(topic[i])) + \" \"\n",
    "                             for i in topic.argsort()[:-n_top_words - 1:-1]])        \n",
    "        print(message)\n",
    "    print()"
   ]
  },
  {
   "cell_type": "code",
   "execution_count": 16,
   "metadata": {},
   "outputs": [],
   "source": [
    "lda = LatentDirichletAllocation(n_components=2, max_iter=100,\n",
    "                                learning_method='online',\n",
    "                                learning_offset=10,\n",
    "                                batch_size=10,\n",
    "                                random_state=1)"
   ]
  },
  {
   "cell_type": "code",
   "execution_count": 17,
   "metadata": {
    "scrolled": false
   },
   "outputs": [
    {
     "name": "stdout",
     "output_type": "stream",
     "text": [
      "\n",
      "Topics in LDA model:\n",
      "Topic #0: piñera 56  sebastian 29  presidente 26  chile 26  mando 9  reunion 8 \n",
      "Topic #1: piñera 96  gobierno 26  bachelet 18  peuco 10  punta 9  hace 8 \n",
      "\n"
     ]
    }
   ],
   "source": [
    "n_top_words = 6\n",
    "lda.fit(dtm_tf)\n",
    "print(\"\\nTopics in LDA model:\")\n",
    "tf_feature_names = tf_vectorizer.get_feature_names()\n",
    "print_top_words(lda, tf_feature_names, n_top_words)"
   ]
  },
  {
   "cell_type": "code",
   "execution_count": 18,
   "metadata": {},
   "outputs": [
    {
     "name": "stderr",
     "output_type": "stream",
     "text": [
      "/home/martin/.local/lib/python3.5/site-packages/pyLDAvis/_prepare.py:387: DeprecationWarning: \n",
      ".ix is deprecated. Please use\n",
      ".loc for label based indexing or\n",
      ".iloc for positional indexing\n",
      "\n",
      "See the documentation here:\n",
      "http://pandas.pydata.org/pandas-docs/stable/indexing.html#ix-indexer-is-deprecated\n",
      "  topic_term_dists = topic_term_dists.ix[topic_order]\n"
     ]
    },
    {
     "data": {
      "text/html": [
       "\n",
       "<link rel=\"stylesheet\" type=\"text/css\" href=\"https://cdn.rawgit.com/bmabey/pyLDAvis/files/ldavis.v1.0.0.css\">\n",
       "\n",
       "\n",
       "<div id=\"ldavis_el37761403826533611527791199955\"></div>\n",
       "<script type=\"text/javascript\">\n",
       "\n",
       "var ldavis_el37761403826533611527791199955_data = {\"tinfo\": {\"Freq\": [28.0, 25.0, 25.0, 23.0, 9.0, 9.0, 137.0, 8.0, 20.0, 8.0, 7.0, 6.0, 7.0, 6.0, 6.0, 6.0, 8.0, 5.0, 5.0, 5.0, 5.0, 5.0, 5.0, 5.0, 4.0, 4.0, 4.0, 4.0, 4.0, 4.0, 27.720653992093318, 24.977206096284807, 25.234003029664365, 8.682073450750714, 7.7741087352144485, 6.72782172914207, 5.953747364875828, 5.890240485166059, 5.085823028128517, 5.786563433405386, 4.885257233937455, 4.185721412058291, 4.102323283198149, 4.1044169166222355, 4.070123484216258, 4.102833918936703, 4.102833918840626, 4.127590187720644, 4.058857653270029, 3.1591725945454168, 7.006391369637007, 3.692587163794529, 4.105330292315907, 2.502068298810503, 53.917906350019166, 4.256390591927626, 0.7320216298656633, 0.7167583767979767, 0.6172624812062862, 0.7182022773131923, 0.6343436203962138, 23.364347163743993, 8.905247731054212, 8.058564089478548, 7.409588924475789, 6.347504842708334, 4.654431452224075, 5.339424987659787, 4.733636888327585, 3.8749076789226775, 3.8090526315529214, 3.810678228122948, 3.764699927840528, 3.8054717008506187, 4.608702655452478, 3.759739334036387, 3.8648423640587226, 3.7408056184293086, 4.584058371914209, 3.6792680291693274, 2.954736316250758, 4.29624323719527, 3.642429132751459, 3.6338173002197296, 3.57561700177915, 16.376878221281416, 83.82167199672566, 1.8831680682094822, 2.177841161465822, 0.7784827133498983, 1.059503954113301], \"Term\": [\"sebastian\", \"presidente\", \"chile\", \"gobierno\", \"peuco\", \"mando\", \"pi\\u00f1era\", \"punta\", \"bachelet\", \"reunion\", \"hace\", \"cierre\", \"macri\", \"cambio\", \"pais\", \"domingo\", \"ma\\u00f1ana\", \"nuevo\", \"da\", \"pone\", \"asuncion\", \"todos\", \"mal\", \"tiempos\", \"mejor\", \"llego\", \"chileno\", \"asume\", \"carlos\", \"juan\", \"sebastian\", \"chile\", \"presidente\", \"mando\", \"reunion\", \"macri\", \"cambio\", \"pais\", \"da\", \"domingo\", \"asuncion\", \"mejor\", \"llego\", \"chileno\", \"actividades\", \"carlos\", \"juan\", \"asume\", \"temer\", \"presidenta\", \"ma\\u00f1ana\", \"sename\", \"piera\", \"primer\", \"pi\\u00f1era\", \"bachelet\", \"mandato\", \"gente\", \"venezuela\", \"ppk\", \"tiempos\", \"gobierno\", \"peuco\", \"punta\", \"hace\", \"cierre\", \"pone\", \"nuevo\", \"todos\", \"manos\", \"cerrar\", \"esto\", \"cierrepuntapeuco\", \"culiao\", \"mal\", \"a\\u00f1os\", \"les\", \"termina\", \"tiempos\", \"hay\", \"esa\", \"ppk\", \"venezuela\", \"gente\", \"mandato\", \"bachelet\", \"pi\\u00f1era\", \"primer\", \"piera\", \"sename\", \"ma\\u00f1ana\"], \"loglift\": [30.0, 29.0, 28.0, 27.0, 26.0, 25.0, 24.0, 23.0, 22.0, 21.0, 20.0, 19.0, 18.0, 17.0, 16.0, 15.0, 14.0, 13.0, 12.0, 11.0, 10.0, 9.0, 8.0, 7.0, 6.0, 5.0, 4.0, 3.0, 2.0, 1.0, 0.6588, 0.6582, 0.658, 0.6273, 0.6223, 0.6098, 0.6058, 0.6025, 0.5914, 0.59, 0.5858, 0.5779, 0.5759, 0.5752, 0.5739, 0.5729, 0.5729, 0.572, 0.5713, 0.5374, 0.5371, 0.4866, 0.2523, 0.1168, -0.26, -0.9006, -1.0945, -1.1254, -1.2538, -1.2654, -1.4295, 0.6858, 0.6549, 0.6493, 0.6458, 0.6356, 0.6066, 0.5985, 0.5984, 0.5918, 0.5902, 0.5894, 0.5888, 0.5866, 0.5866, 0.586, 0.584, 0.5806, 0.579, 0.5726, 0.5572, 0.5541, 0.5521, 0.5286, 0.5224, 0.4776, 0.212, -0.1366, -0.3509, -1.0394, -1.3212], \"Total\": [28.0, 25.0, 25.0, 23.0, 9.0, 9.0, 137.0, 8.0, 20.0, 8.0, 7.0, 6.0, 7.0, 6.0, 6.0, 6.0, 8.0, 5.0, 5.0, 5.0, 5.0, 5.0, 5.0, 5.0, 4.0, 4.0, 4.0, 4.0, 4.0, 4.0, 28.254420889539354, 25.47416501136003, 25.739961443552275, 9.132678264588405, 8.218779644476246, 7.201683890985322, 6.398500866689251, 6.351155072203451, 5.54526574060747, 6.3182366554052365, 5.356607737132733, 4.625997975181088, 4.542830026500372, 4.548267751370455, 4.516009428009939, 4.55697939178714, 4.556979391780457, 4.588646313427407, 4.515321598778414, 3.6357568769541473, 8.065895323750308, 4.471069877144427, 6.283171453781729, 4.385236367019985, 137.73957834674482, 20.633268813209042, 4.307638631644814, 4.350575677017706, 4.259691613957745, 5.014445514508463, 5.218401992310423, 23.90440915515495, 9.396846713564791, 8.551306622894625, 7.890552170775574, 6.8288528231042065, 5.154417138102493, 5.961253832656855, 5.285113956065347, 4.355324465497976, 4.287951383925112, 4.29312895013328, 4.24410489176436, 4.299275434156969, 5.206866895140135, 4.250529474022192, 4.3777142883025215, 4.251968906562338, 5.218401992310423, 4.21531740340297, 3.4378479133546276, 5.014445514508463, 4.259691613957745, 4.350575677017706, 4.307638631644814, 20.633268813209042, 137.73957834674482, 4.385236367019985, 6.283171453781729, 4.471069877144427, 8.065895323750308], \"Category\": [\"Default\", \"Default\", \"Default\", \"Default\", \"Default\", \"Default\", \"Default\", \"Default\", \"Default\", \"Default\", \"Default\", \"Default\", \"Default\", \"Default\", \"Default\", \"Default\", \"Default\", \"Default\", \"Default\", \"Default\", \"Default\", \"Default\", \"Default\", \"Default\", \"Default\", \"Default\", \"Default\", \"Default\", \"Default\", \"Default\", \"Topic1\", \"Topic1\", \"Topic1\", \"Topic1\", \"Topic1\", \"Topic1\", \"Topic1\", \"Topic1\", \"Topic1\", \"Topic1\", \"Topic1\", \"Topic1\", \"Topic1\", \"Topic1\", \"Topic1\", \"Topic1\", \"Topic1\", \"Topic1\", \"Topic1\", \"Topic1\", \"Topic1\", \"Topic1\", \"Topic1\", \"Topic1\", \"Topic1\", \"Topic1\", \"Topic1\", \"Topic1\", \"Topic1\", \"Topic1\", \"Topic1\", \"Topic2\", \"Topic2\", \"Topic2\", \"Topic2\", \"Topic2\", \"Topic2\", \"Topic2\", \"Topic2\", \"Topic2\", \"Topic2\", \"Topic2\", \"Topic2\", \"Topic2\", \"Topic2\", \"Topic2\", \"Topic2\", \"Topic2\", \"Topic2\", \"Topic2\", \"Topic2\", \"Topic2\", \"Topic2\", \"Topic2\", \"Topic2\", \"Topic2\", \"Topic2\", \"Topic2\", \"Topic2\", \"Topic2\", \"Topic2\"], \"logprob\": [30.0, 29.0, 28.0, 27.0, 26.0, 25.0, 24.0, 23.0, 22.0, 21.0, 20.0, 19.0, 18.0, 17.0, 16.0, 15.0, 14.0, 13.0, 12.0, 11.0, 10.0, 9.0, 8.0, 7.0, 6.0, 5.0, 4.0, 3.0, 2.0, 1.0, -2.2125, -2.3168, -2.3065, -3.3735, -3.4839, -3.6285, -3.7507, -3.7614, -3.9083, -3.7792, -3.9485, -4.103, -4.1232, -4.1227, -4.1311, -4.123, -4.123, -4.117, -4.1338, -4.3844, -3.5879, -4.2284, -4.1224, -4.6176, -1.5473, -4.0863, -5.8467, -5.8677, -6.0172, -5.8657, -5.9899, -2.3527, -3.3173, -3.4172, -3.5012, -3.6559, -3.9661, -3.8288, -3.9493, -4.1494, -4.1666, -4.1662, -4.1783, -4.1675, -3.976, -4.1796, -4.152, -4.1847, -3.9814, -4.2012, -4.4205, -4.0462, -4.2113, -4.2137, -4.2298, -2.7081, -1.0753, -4.871, -4.7256, -5.7544, -5.4462]}, \"plot.opts\": {\"ylab\": \"PC2\", \"xlab\": \"PC1\"}, \"topic.order\": [1, 2], \"R\": 30, \"lambda.step\": 0.01, \"token.table\": {\"Freq\": [0.8857377434135855, 0.8717167824190554, 0.9334265724442207, 0.9410592314314383, 0.19386167243841038, 0.7754466897536415, 0.937719651057038, 0.8777744326009108, 0.9328463972318813, 0.9813864355848925, 0.8794557002047089, 0.8786248811367071, 0.9424837750268512, 0.930389332169956, 0.9016700432200139, 0.9496320456542277, 0.15827200760903795, 0.8726389519286853, 0.9317213730269668, 0.22985463861313501, 0.9194185544525401, 0.04183328663383221, 0.9621655925781409, 0.8871369010049851, 0.23723005987466403, 0.9489202394986561, 0.877774432602198, 0.22842970878023072, 0.9137188351209229, 0.8805084004169648, 0.9719948981323967, 0.19205407400242108, 0.9602703700121054, 0.232145749797532, 0.928582999190128, 0.9854721407297508, 0.9184160747809293, 0.8678515798969344, 0.12397879712813349, 0.8646782859526473, 0.1677499445706899, 0.8387497228534494, 0.9447100459347433, 0.9577680975691639, 0.6366211760133446, 0.3183105880066723, 0.3920441796624403, 0.6098465016971294, 0.9700417847517598, 0.19942384399365126, 0.797695375974605, 0.8251376815144053, 0.971252426108912, 0.03885009704435648, 0.6841136369665448, 0.45607575797769656, 0.9355295456932162, 0.9733805195004485, 0.9909953599638792, 0.0353926914272814, 0.8946404574098741, 0.22366011435246852, 0.8858726698630215, 0.23518516291514632, 0.9407406516605853, 0.1916295451123831, 0.9581477255619154, 0.18921067895846816, 0.9460533947923409, 0.2347587784813569, 0.9390351139254276], \"Term\": [\"actividades\", \"asume\", \"asuncion\", \"a\\u00f1os\", \"bachelet\", \"bachelet\", \"cambio\", \"carlos\", \"cerrar\", \"chile\", \"chileno\", \"cierre\", \"cierrepuntapeuco\", \"culiao\", \"da\", \"domingo\", \"domingo\", \"esa\", \"esto\", \"gente\", \"gente\", \"gobierno\", \"gobierno\", \"hace\", \"hay\", \"hay\", \"juan\", \"les\", \"les\", \"llego\", \"macri\", \"mal\", \"mal\", \"mandato\", \"mandato\", \"mando\", \"manos\", \"ma\\u00f1ana\", \"ma\\u00f1ana\", \"mejor\", \"nuevo\", \"nuevo\", \"pais\", \"peuco\", \"piera\", \"piera\", \"pi\\u00f1era\", \"pi\\u00f1era\", \"pone\", \"ppk\", \"ppk\", \"presidenta\", \"presidente\", \"presidente\", \"primer\", \"primer\", \"punta\", \"reunion\", \"sebastian\", \"sebastian\", \"sename\", \"sename\", \"temer\", \"termina\", \"termina\", \"tiempos\", \"tiempos\", \"todos\", \"todos\", \"venezuela\", \"venezuela\"], \"Topic\": [1, 1, 1, 2, 1, 2, 1, 1, 2, 1, 1, 2, 2, 2, 1, 1, 2, 2, 2, 1, 2, 1, 2, 2, 1, 2, 1, 1, 2, 1, 1, 1, 2, 1, 2, 1, 2, 1, 2, 1, 1, 2, 1, 2, 1, 2, 1, 2, 2, 1, 2, 1, 1, 2, 1, 2, 2, 1, 1, 2, 1, 2, 1, 1, 2, 1, 2, 1, 2, 1, 2]}, \"mdsDat\": {\"topics\": [1, 2], \"x\": [0.15500500153058805, -0.15500500153058805], \"Freq\": [50.76909143374303, 49.23090856625698], \"cluster\": [1, 1], \"y\": [0.0, 0.0]}};\n",
       "\n",
       "function LDAvis_load_lib(url, callback){\n",
       "  var s = document.createElement('script');\n",
       "  s.src = url;\n",
       "  s.async = true;\n",
       "  s.onreadystatechange = s.onload = callback;\n",
       "  s.onerror = function(){console.warn(\"failed to load library \" + url);};\n",
       "  document.getElementsByTagName(\"head\")[0].appendChild(s);\n",
       "}\n",
       "\n",
       "if(typeof(LDAvis) !== \"undefined\"){\n",
       "   // already loaded: just create the visualization\n",
       "   !function(LDAvis){\n",
       "       new LDAvis(\"#\" + \"ldavis_el37761403826533611527791199955\", ldavis_el37761403826533611527791199955_data);\n",
       "   }(LDAvis);\n",
       "}else if(typeof define === \"function\" && define.amd){\n",
       "   // require.js is available: use it to load d3/LDAvis\n",
       "   require.config({paths: {d3: \"https://cdnjs.cloudflare.com/ajax/libs/d3/3.5.5/d3.min\"}});\n",
       "   require([\"d3\"], function(d3){\n",
       "      window.d3 = d3;\n",
       "      LDAvis_load_lib(\"https://cdn.rawgit.com/bmabey/pyLDAvis/files/ldavis.v1.0.0.js\", function(){\n",
       "        new LDAvis(\"#\" + \"ldavis_el37761403826533611527791199955\", ldavis_el37761403826533611527791199955_data);\n",
       "      });\n",
       "    });\n",
       "}else{\n",
       "    // require.js not available: dynamically load d3 & LDAvis\n",
       "    LDAvis_load_lib(\"https://cdnjs.cloudflare.com/ajax/libs/d3/3.5.5/d3.min.js\", function(){\n",
       "         LDAvis_load_lib(\"https://cdn.rawgit.com/bmabey/pyLDAvis/files/ldavis.v1.0.0.js\", function(){\n",
       "                 new LDAvis(\"#\" + \"ldavis_el37761403826533611527791199955\", ldavis_el37761403826533611527791199955_data);\n",
       "            })\n",
       "         });\n",
       "}\n",
       "</script>"
      ],
      "text/plain": [
       "PreparedData(topic_coordinates=            Freq  cluster  topics         x    y\n",
       "topic                                           \n",
       "0      50.769091        1       1  0.155005  0.0\n",
       "1      49.230909        1       2 -0.155005  0.0, topic_info=     Category        Freq              Term       Total  loglift  logprob\n",
       "term                                                                     \n",
       "43    Default   28.000000         sebastian   28.000000  30.0000  30.0000\n",
       "39    Default   25.000000        presidente   25.000000  29.0000  29.0000\n",
       "8     Default   25.000000             chile   25.000000  28.0000  28.0000\n",
       "18    Default   23.000000          gobierno   23.000000  27.0000  27.0000\n",
       "33    Default    9.000000             peuco    9.000000  26.0000  26.0000\n",
       "27    Default    9.000000             mando    9.000000  25.0000  25.0000\n",
       "35    Default  137.000000            piñera  137.000000  24.0000  24.0000\n",
       "41    Default    8.000000             punta    8.000000  23.0000  23.0000\n",
       "4     Default   20.000000          bachelet   20.000000  22.0000  22.0000\n",
       "42    Default    8.000000           reunion    8.000000  21.0000  21.0000\n",
       "19    Default    7.000000              hace    7.000000  20.0000  20.0000\n",
       "10    Default    6.000000            cierre    6.000000  19.0000  19.0000\n",
       "24    Default    7.000000             macri    7.000000  18.0000  18.0000\n",
       "5     Default    6.000000            cambio    6.000000  17.0000  17.0000\n",
       "32    Default    6.000000              pais    6.000000  16.0000  16.0000\n",
       "14    Default    6.000000           domingo    6.000000  15.0000  15.0000\n",
       "29    Default    8.000000            mañana    8.000000  14.0000  14.0000\n",
       "31    Default    5.000000             nuevo    5.000000  13.0000  13.0000\n",
       "13    Default    5.000000                da    5.000000  12.0000  12.0000\n",
       "36    Default    5.000000              pone    5.000000  11.0000  11.0000\n",
       "2     Default    5.000000          asuncion    5.000000  10.0000  10.0000\n",
       "48    Default    5.000000             todos    5.000000   9.0000   9.0000\n",
       "25    Default    5.000000               mal    5.000000   8.0000   8.0000\n",
       "47    Default    5.000000           tiempos    5.000000   7.0000   7.0000\n",
       "30    Default    4.000000             mejor    4.000000   6.0000   6.0000\n",
       "23    Default    4.000000             llego    4.000000   5.0000   5.0000\n",
       "9     Default    4.000000           chileno    4.000000   4.0000   4.0000\n",
       "1     Default    4.000000             asume    4.000000   3.0000   3.0000\n",
       "6     Default    4.000000            carlos    4.000000   2.0000   2.0000\n",
       "21    Default    4.000000              juan    4.000000   1.0000   1.0000\n",
       "...       ...         ...               ...         ...      ...      ...\n",
       "18     Topic2   23.364347          gobierno   23.904409   0.6858  -2.3527\n",
       "33     Topic2    8.905248             peuco    9.396847   0.6549  -3.3173\n",
       "41     Topic2    8.058564             punta    8.551307   0.6493  -3.4172\n",
       "19     Topic2    7.409589              hace    7.890552   0.6458  -3.5012\n",
       "10     Topic2    6.347505            cierre    6.828853   0.6356  -3.6559\n",
       "36     Topic2    4.654431              pone    5.154417   0.6066  -3.9661\n",
       "31     Topic2    5.339425             nuevo    5.961254   0.5985  -3.8288\n",
       "48     Topic2    4.733637             todos    5.285114   0.5984  -3.9493\n",
       "28     Topic2    3.874908             manos    4.355324   0.5918  -4.1494\n",
       "7      Topic2    3.809053            cerrar    4.287951   0.5902  -4.1666\n",
       "16     Topic2    3.810678              esto    4.293129   0.5894  -4.1662\n",
       "11     Topic2    3.764700  cierrepuntapeuco    4.244105   0.5888  -4.1783\n",
       "12     Topic2    3.805472            culiao    4.299275   0.5866  -4.1675\n",
       "25     Topic2    4.608703               mal    5.206867   0.5866  -3.9760\n",
       "3      Topic2    3.759739              años    4.250529   0.5860  -4.1796\n",
       "22     Topic2    3.864842               les    4.377714   0.5840  -4.1520\n",
       "46     Topic2    3.740806           termina    4.251969   0.5806  -4.1847\n",
       "47     Topic2    4.584058           tiempos    5.218402   0.5790  -3.9814\n",
       "20     Topic2    3.679268               hay    4.215317   0.5726  -4.2012\n",
       "15     Topic2    2.954736               esa    3.437848   0.5572  -4.4205\n",
       "37     Topic2    4.296243               ppk    5.014446   0.5541  -4.0462\n",
       "49     Topic2    3.642429         venezuela    4.259692   0.5521  -4.2113\n",
       "17     Topic2    3.633817             gente    4.350576   0.5286  -4.2137\n",
       "26     Topic2    3.575617           mandato    4.307639   0.5224  -4.2298\n",
       "4      Topic2   16.376878          bachelet   20.633269   0.4776  -2.7081\n",
       "35     Topic2   83.821672            piñera  137.739578   0.2120  -1.0753\n",
       "40     Topic2    1.883168            primer    4.385236  -0.1366  -4.8710\n",
       "34     Topic2    2.177841             piera    6.283171  -0.3509  -4.7256\n",
       "44     Topic2    0.778483            sename    4.471070  -1.0394  -5.7544\n",
       "29     Topic2    1.059504            mañana    8.065895  -1.3212  -5.4462\n",
       "\n",
       "[91 rows x 6 columns], token_table=      Topic      Freq              Term\n",
       "term                                   \n",
       "0         1  0.885738       actividades\n",
       "1         1  0.871717             asume\n",
       "2         1  0.933427          asuncion\n",
       "3         2  0.941059              años\n",
       "4         1  0.193862          bachelet\n",
       "4         2  0.775447          bachelet\n",
       "5         1  0.937720            cambio\n",
       "6         1  0.877774            carlos\n",
       "7         2  0.932846            cerrar\n",
       "8         1  0.981386             chile\n",
       "9         1  0.879456           chileno\n",
       "10        2  0.878625            cierre\n",
       "11        2  0.942484  cierrepuntapeuco\n",
       "12        2  0.930389            culiao\n",
       "13        1  0.901670                da\n",
       "14        1  0.949632           domingo\n",
       "14        2  0.158272           domingo\n",
       "15        2  0.872639               esa\n",
       "16        2  0.931721              esto\n",
       "17        1  0.229855             gente\n",
       "17        2  0.919419             gente\n",
       "18        1  0.041833          gobierno\n",
       "18        2  0.962166          gobierno\n",
       "19        2  0.887137              hace\n",
       "20        1  0.237230               hay\n",
       "20        2  0.948920               hay\n",
       "21        1  0.877774              juan\n",
       "22        1  0.228430               les\n",
       "22        2  0.913719               les\n",
       "23        1  0.880508             llego\n",
       "...     ...       ...               ...\n",
       "31        2  0.838750             nuevo\n",
       "32        1  0.944710              pais\n",
       "33        2  0.957768             peuco\n",
       "34        1  0.636621             piera\n",
       "34        2  0.318311             piera\n",
       "35        1  0.392044            piñera\n",
       "35        2  0.609847            piñera\n",
       "36        2  0.970042              pone\n",
       "37        1  0.199424               ppk\n",
       "37        2  0.797695               ppk\n",
       "38        1  0.825138        presidenta\n",
       "39        1  0.971252        presidente\n",
       "39        2  0.038850        presidente\n",
       "40        1  0.684114            primer\n",
       "40        2  0.456076            primer\n",
       "41        2  0.935530             punta\n",
       "42        1  0.973381           reunion\n",
       "43        1  0.990995         sebastian\n",
       "43        2  0.035393         sebastian\n",
       "44        1  0.894640            sename\n",
       "44        2  0.223660            sename\n",
       "45        1  0.885873             temer\n",
       "46        1  0.235185           termina\n",
       "46        2  0.940741           termina\n",
       "47        1  0.191630           tiempos\n",
       "47        2  0.958148           tiempos\n",
       "48        1  0.189211             todos\n",
       "48        2  0.946053             todos\n",
       "49        1  0.234759         venezuela\n",
       "49        2  0.939035         venezuela\n",
       "\n",
       "[71 rows x 3 columns], R=30, lambda_step=0.01, plot_opts={'ylab': 'PC2', 'xlab': 'PC1'}, topic_order=[1, 2])"
      ]
     },
     "execution_count": 18,
     "metadata": {},
     "output_type": "execute_result"
    }
   ],
   "source": [
    "pyLDAvis.sklearn.prepare(lda, dtm_tf, tf_vectorizer)"
   ]
  },
  {
   "cell_type": "markdown",
   "metadata": {},
   "source": [
    "## Obteniendo las frecuencias"
   ]
  },
  {
   "cell_type": "code",
   "execution_count": 30,
   "metadata": {},
   "outputs": [
    {
     "data": {
      "text/plain": [
       "(138, 1057)"
      ]
     },
     "execution_count": 30,
     "metadata": {},
     "output_type": "execute_result"
    }
   ],
   "source": [
    "X_train, X_test, y_train, y_test = train_test_split(datos.ix[:,0], datos.ix[:,1], test_size = 0.25, random_state = 4)\n",
    "\n",
    "tf_vectorizer = CountVectorizer(stop_words=stop_words_es)\n",
    "dtm_tf = tf_vectorizer.fit_transform(formatear(X_train))\n",
    "tfidf_transformer = TfidfTransformer()\n",
    "X_train_tfidf = tfidf_transformer.fit_transform(dtm_tf)\n",
    "X_train_tfidf.shape"
   ]
  },
  {
   "cell_type": "markdown",
   "metadata": {},
   "source": [
    "## Entrenando con Naive Bayes"
   ]
  },
  {
   "cell_type": "code",
   "execution_count": 31,
   "metadata": {},
   "outputs": [],
   "source": [
    "clf = BernoulliNB().fit(X_train_tfidf, y_train)"
   ]
  },
  {
   "cell_type": "markdown",
   "metadata": {},
   "source": [
    "## Predicción del modelo"
   ]
  },
  {
   "cell_type": "code",
   "execution_count": 32,
   "metadata": {},
   "outputs": [
    {
     "data": {
      "text/plain": [
       "0.6595744680851063"
      ]
     },
     "execution_count": 32,
     "metadata": {},
     "output_type": "execute_result"
    }
   ],
   "source": [
    "# new_tweets = ['Viva Piñera', 'Creo que Piñera no tendrá buen desempeño en su nuevo gobierno', 'Piñera y Bachelet lideran gobiernos', 'Piñera y puntapeuco no se rinden']\n",
    "\n",
    "# Se extraen las características de los nuevos tweets\n",
    "dtm_tf_test = tf_vectorizer.transform(formatear(X_test))\n",
    "X_new_tfidf_test = tfidf_transformer.transform(dtm_tf_test)\n",
    "\n",
    "predicted = clf.predict(X_new_tfidf_test)\n",
    "#for tweet, prediction in zip(data_test, predicted):\n",
    "#    print('%r => %s' % (tweet, str(prediction)))\n",
    "\n",
    "np.mean(predicted == y_test)"
   ]
  },
  {
   "cell_type": "markdown",
   "metadata": {},
   "source": [
    "## Entrenando con SVM"
   ]
  },
  {
   "cell_type": "code",
   "execution_count": 37,
   "metadata": {},
   "outputs": [
    {
     "data": {
      "text/plain": [
       "Pipeline(memory=None,\n",
       "     steps=[('vect', CountVectorizer(analyzer='word', binary=False, decode_error='strict',\n",
       "        dtype=<class 'numpy.int64'>, encoding='utf-8', input='content',\n",
       "        lowercase=True, max_df=1.0, max_features=None, min_df=1,\n",
       "        ngram_range=(1, 1), preprocessor=None, stop_words=None,\n",
       "        strip...ty='l2', power_t=0.5, random_state=42, shuffle=True,\n",
       "       tol=None, verbose=0, warm_start=False))])"
      ]
     },
     "execution_count": 37,
     "metadata": {},
     "output_type": "execute_result"
    }
   ],
   "source": [
    "text_clf = Pipeline([('vect', CountVectorizer()),\n",
    "                      ('tfidf', TfidfTransformer()),\n",
    "                      ('clf', SGDClassifier(loss='hinge', penalty='l2',\n",
    "                                            alpha=1e-3, random_state=42,\n",
    "                                            max_iter=5, tol=None))])\n",
    "text_clf.fit(X_train, y_train)"
   ]
  },
  {
   "cell_type": "code",
   "execution_count": 40,
   "metadata": {},
   "outputs": [
    {
     "data": {
      "text/plain": [
       "0.7659574468085106"
      ]
     },
     "execution_count": 40,
     "metadata": {},
     "output_type": "execute_result"
    }
   ],
   "source": [
    "predicted = text_clf.predict(X_test)\n",
    "np.mean(predicted == y_test)"
   ]
  }
 ],
 "metadata": {
  "kernelspec": {
   "display_name": "Python 3",
   "language": "python",
   "name": "python3"
  },
  "language_info": {
   "codemirror_mode": {
    "name": "ipython",
    "version": 3
   },
   "file_extension": ".py",
   "mimetype": "text/x-python",
   "name": "python",
   "nbconvert_exporter": "python",
   "pygments_lexer": "ipython3",
   "version": "3.5.2"
  }
 },
 "nbformat": 4,
 "nbformat_minor": 2
}
