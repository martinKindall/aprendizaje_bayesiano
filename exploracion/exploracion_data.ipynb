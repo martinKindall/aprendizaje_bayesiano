{
 "cells": [
  {
   "cell_type": "markdown",
   "metadata": {},
   "source": [
    "# Proyecto Final: Clasificación de tópicos de interés\n",
    "\n",
    "## Exploración de datos\n",
    "\n",
    "\n",
    "CC5113 - Aprendizaje Automático Bayesiano\n",
    "\n",
    "Profesor: Pablo Guerrero\n",
    "\n",
    "Autor: Martín Cornejo"
   ]
  },
  {
   "cell_type": "markdown",
   "metadata": {},
   "source": [
    "## Paquetes necesarios"
   ]
  },
  {
   "cell_type": "code",
   "execution_count": 123,
   "metadata": {},
   "outputs": [],
   "source": [
    "import numpy as np\n",
    "import matplotlib.pyplot as plt\n",
    "import pdb\n",
    "import itertools\n",
    "import operator\n",
    "\n",
    "import pandas as pd\n",
    "\n",
    "from nltk.stem.snowball import SpanishStemmer\n",
    "\n",
    "from sklearn.feature_extraction.text import CountVectorizer\n",
    "from sklearn.decomposition import LatentDirichletAllocation\n",
    "\n",
    "import pyLDAvis\n",
    "import pyLDAvis.sklearn\n",
    "pyLDAvis.enable_notebook()"
   ]
  },
  {
   "cell_type": "code",
   "execution_count": 124,
   "metadata": {},
   "outputs": [
    {
     "name": "stdout",
     "output_type": "stream",
     "text": [
      "(138, 2)\n"
     ]
    },
    {
     "data": {
      "text/html": [
       "<div>\n",
       "<style scoped>\n",
       "    .dataframe tbody tr th:only-of-type {\n",
       "        vertical-align: middle;\n",
       "    }\n",
       "\n",
       "    .dataframe tbody tr th {\n",
       "        vertical-align: top;\n",
       "    }\n",
       "\n",
       "    .dataframe thead th {\n",
       "        text-align: right;\n",
       "    }\n",
       "</style>\n",
       "<table border=\"1\" class=\"dataframe\">\n",
       "  <thead>\n",
       "    <tr style=\"text-align: right;\">\n",
       "      <th></th>\n",
       "      <th>Texto</th>\n",
       "      <th>Interes</th>\n",
       "    </tr>\n",
       "  </thead>\n",
       "  <tbody>\n",
       "    <tr>\n",
       "      <th>0</th>\n",
       "      <td>Ojalá obliguen a Piñera a cerrar Punta Peuco, ...</td>\n",
       "      <td>False</td>\n",
       "    </tr>\n",
       "    <tr>\n",
       "      <th>1</th>\n",
       "      <td>Piñera para crear base de apoyo moderada a su ...</td>\n",
       "      <td>True</td>\n",
       "    </tr>\n",
       "    <tr>\n",
       "      <th>2</th>\n",
       "      <td>@CNNChile MEMORIA 2014 Adimark: Piñera termina...</td>\n",
       "      <td>True</td>\n",
       "    </tr>\n",
       "    <tr>\n",
       "      <th>3</th>\n",
       "      <td>PPK y Piñera en privado habrían conversado alg...</td>\n",
       "      <td>False</td>\n",
       "    </tr>\n",
       "    <tr>\n",
       "      <th>4</th>\n",
       "      <td>Bachelet entregará el gobierno de Chile a Piñera</td>\n",
       "      <td>True</td>\n",
       "    </tr>\n",
       "  </tbody>\n",
       "</table>\n",
       "</div>"
      ],
      "text/plain": [
       "                                               Texto  Interes\n",
       "0  Ojalá obliguen a Piñera a cerrar Punta Peuco, ...    False\n",
       "1  Piñera para crear base de apoyo moderada a su ...     True\n",
       "2  @CNNChile MEMORIA 2014 Adimark: Piñera termina...     True\n",
       "3  PPK y Piñera en privado habrían conversado alg...    False\n",
       "4   Bachelet entregará el gobierno de Chile a Piñera     True"
      ]
     },
     "execution_count": 124,
     "metadata": {},
     "output_type": "execute_result"
    }
   ],
   "source": [
    "datos=pd.read_csv('data_format.csv')\n",
    "print(datos.shape)\n",
    "datos.head()"
   ]
  },
  {
   "cell_type": "markdown",
   "metadata": {},
   "source": [
    "## Limpiando strings"
   ]
  },
  {
   "cell_type": "markdown",
   "metadata": {},
   "source": [
    "### Reemplazar tildes, caracteres especiales, todo a minúsculas"
   ]
  },
  {
   "cell_type": "code",
   "execution_count": 154,
   "metadata": {},
   "outputs": [
    {
     "name": "stdout",
     "output_type": "stream",
     "text": [
      "0    ojala obliguen a pinera a cerrar punta peuco e...\n",
      "1    pinera para crear base de apoyo moderada a su ...\n",
      "2    cnnchile memoria  adimark pinera termina su go...\n",
      "3    ppk y pinera en privado habrian conversado alg...\n",
      "4     bachelet entregara el gobierno de chile a pinera\n",
      "dtype: object\n"
     ]
    }
   ],
   "source": [
    "strings = datos.ix[:,0]\n",
    "\n",
    "def formatear(strings):\n",
    "    tildes = ['á','é','í','ó','ú', 'ñ']\n",
    "    vocales = ['a','e','i','o','u', 'n']\n",
    "\n",
    "    # tildes\n",
    "    for idx, vocal in enumerate(vocales):\n",
    "        strings = strings.str.replace(tildes[idx],vocal)\n",
    "\n",
    "    # caracteres especiales menos la ñ\n",
    "    strings = strings.str.replace('[^a-zñA-Z ]', \"\")\n",
    "\n",
    "    # todo a minusculas\n",
    "    strings = pd.Series(list(map(lambda x: x.lower(), strings)))\n",
    "    \n",
    "    return strings\n",
    "\n",
    "def oracionToStrArr(strings):\n",
    "    strings_arr = list(map(lambda x: x.split(), strings))\n",
    "    #pdb.set_trace()\n",
    "    strings_arr = list(itertools.chain.from_iterable(strings_arr))    \n",
    "    return strings_arr\n",
    "\n",
    "print(formatear(strings).head())\n",
    "formated_array_data = oracionToStrArr(formatear(strings))"
   ]
  },
  {
   "cell_type": "markdown",
   "metadata": {},
   "source": [
    "## Funciones auxiliares (conteo y ordenar repetidas)"
   ]
  },
  {
   "cell_type": "code",
   "execution_count": 126,
   "metadata": {},
   "outputs": [],
   "source": [
    "def most_common(str_arr):\n",
    "  # get an iterable of (item, iterable) pairs\n",
    "  SL = sorted((x, i) for i, x in enumerate(str_arr))\n",
    "  list_pairs = []\n",
    "  #print('SL:', SL)\n",
    "  groups = itertools.groupby(SL, key=operator.itemgetter(0))\n",
    "    \n",
    "  # auxiliary function to get \"quality\" for an item\n",
    "  def _auxfun(g):\n",
    "    item, iterable = g\n",
    "    count = 0\n",
    "    min_index = len(str_arr)\n",
    "    for _, where in iterable:\n",
    "      count += 1\n",
    "      min_index = min(min_index, where)\n",
    "    list_pairs.append((item, count))\n",
    "    #print('item %r, count %r, minind %r' % (item, count, min_index))\n",
    "    return count, -min_index\n",
    "\n",
    "  return max(groups, key=_auxfun)[0], list_pairs\n",
    "\n",
    "def aplicar_ordenar_str_arr(func, str_arr):\n",
    "    arr = list(map(func, str_arr))\n",
    "    common, pairs = most_common(arr)\n",
    "    pares_filtrados = list(filter(lambda x: len(x[0]) > 3, pairs))\n",
    "    common_sorted = sorted(pares_filtrados, key=lambda tup: tup[1], reverse=True)\n",
    "    return common_sorted"
   ]
  },
  {
   "cell_type": "markdown",
   "metadata": {},
   "source": [
    "## Separando data por clases"
   ]
  },
  {
   "cell_type": "code",
   "execution_count": 5,
   "metadata": {},
   "outputs": [
    {
     "name": "stderr",
     "output_type": "stream",
     "text": [
      "/usr/local/lib/python3.5/dist-packages/ipykernel_launcher.py:3: DeprecationWarning: \n",
      ".ix is deprecated. Please use\n",
      ".loc for label based indexing or\n",
      ".iloc for positional indexing\n",
      "\n",
      "See the documentation here:\n",
      "http://pandas.pydata.org/pandas-docs/stable/indexing.html#ix-indexer-is-deprecated\n",
      "  This is separate from the ipykernel package so we can avoid doing imports until\n",
      "/usr/local/lib/python3.5/dist-packages/ipykernel_launcher.py:7: DeprecationWarning: \n",
      ".ix is deprecated. Please use\n",
      ".loc for label based indexing or\n",
      ".iloc for positional indexing\n",
      "\n",
      "See the documentation here:\n",
      "http://pandas.pydata.org/pandas-docs/stable/indexing.html#ix-indexer-is-deprecated\n",
      "  import sys\n"
     ]
    }
   ],
   "source": [
    "datos_interes = datos[datos.Interes == True]\n",
    "#print(datos_interes.head())\n",
    "str_interes = datos_interes.ix[:,0]\n",
    "\n",
    "datos_no_interes = datos[datos.Interes == False]\n",
    "#print(datos_no_interes.head())\n",
    "str_no_interes = datos_no_interes.ix[:,0]"
   ]
  },
  {
   "cell_type": "markdown",
   "metadata": {},
   "source": [
    "## Stemming por clases"
   ]
  },
  {
   "cell_type": "code",
   "execution_count": 34,
   "metadata": {},
   "outputs": [],
   "source": [
    "stemmer_es = lambda x: SpanishStemmer().stem(x)\n",
    "\n",
    "stem_interes_ordenado = pd.Series(aplicar_ordenar_str_arr(stemmer_es,oracionToStrArr(formatear(str_interes))))\n",
    "stem_no_interes_ordenado = pd.Series(aplicar_ordenar_str_arr(stemmer_es,oracionToStrArr(formatear(str_no_interes))))\n",
    "\n",
    "#stem_interes_ordenado"
   ]
  },
  {
   "cell_type": "code",
   "execution_count": 35,
   "metadata": {},
   "outputs": [],
   "source": [
    "#stem_no_interes_ordenado"
   ]
  },
  {
   "cell_type": "markdown",
   "metadata": {},
   "source": [
    "## Lematización"
   ]
  },
  {
   "cell_type": "code",
   "execution_count": 8,
   "metadata": {},
   "outputs": [],
   "source": [
    "def create_lemma_dict(filename):\n",
    "   with open(filename, 'r') as document:\n",
    "       lemma_dict = {}\n",
    "       for line in document:\n",
    "           if line.strip():  # avoid empty lines\n",
    "               value, key = line.split(None, 1) # 'None' means 'all whitespace', which is the default\n",
    "               key = key.rstrip() # rstrip() to get rid of \\r and \\n\n",
    "               lemma_dict[key] = value # adding the flections as keys to the dict\n",
    "               lemma_dict[value] = value # adding also the base word as a key\n",
    "   return lemma_dict\n",
    "\n",
    "def query_word(lemma_dict):\n",
    "   word = input(\"\\nDame una palabra en español -> \")\n",
    "   try:\n",
    "      lemma = lemma_dict[word]\n",
    "      print(\"__your happy lemma is__: {}\".format(lemma))\n",
    "   except KeyError:\n",
    "      print(\"This word is not in the dictionary!\")\n",
    "   return query_word(lemma_dict)\n",
    "\n",
    "def lemmatiser(dict):\n",
    "    def lookup(word):\n",
    "        try:\n",
    "            lemma = dict[word]\n",
    "        except:\n",
    "            lemma = word\n",
    "        \n",
    "        return lemma\n",
    "    \n",
    "    return lookup"
   ]
  },
  {
   "cell_type": "markdown",
   "metadata": {},
   "source": [
    "## Lematizando por clases"
   ]
  },
  {
   "cell_type": "code",
   "execution_count": 9,
   "metadata": {},
   "outputs": [
    {
     "name": "stderr",
     "output_type": "stream",
     "text": [
      "/usr/local/lib/python3.5/dist-packages/ipykernel_launcher.py:8: DeprecationWarning: \n",
      ".ix is deprecated. Please use\n",
      ".loc for label based indexing or\n",
      ".iloc for positional indexing\n",
      "\n",
      "See the documentation here:\n",
      "http://pandas.pydata.org/pandas-docs/stable/indexing.html#ix-indexer-is-deprecated\n",
      "  \n",
      "/usr/local/lib/python3.5/dist-packages/ipykernel_launcher.py:12: DeprecationWarning: \n",
      ".ix is deprecated. Please use\n",
      ".loc for label based indexing or\n",
      ".iloc for positional indexing\n",
      "\n",
      "See the documentation here:\n",
      "http://pandas.pydata.org/pandas-docs/stable/indexing.html#ix-indexer-is-deprecated\n",
      "  if sys.path[0] == '':\n"
     ]
    }
   ],
   "source": [
    "resource_file = 'lemmatization-es.txt'\n",
    "lemmatiser_es = lemmatiser(create_lemma_dict(resource_file))\n",
    "\n",
    "#pdb.set_trace()\n",
    "\n",
    "datos_interes = datos[datos.Interes == True]\n",
    "#print(datos_interes.head())\n",
    "str_interes = datos_interes.ix[:,0]\n",
    "\n",
    "datos_no_interes = datos[datos.Interes == False]\n",
    "#print(datos_no_interes.head())\n",
    "str_no_interes = datos_no_interes.ix[:,0]"
   ]
  },
  {
   "cell_type": "code",
   "execution_count": 36,
   "metadata": {},
   "outputs": [],
   "source": [
    "lema_interes_ordenado = pd.Series(aplicar_ordenar_str_arr(lemmatiser_es, oracionToStrArr(formatear(str_interes))))\n",
    "lema_no_interes_ordenado = pd.Series(aplicar_ordenar_str_arr(lemmatiser_es, oracionToStrArr(formatear(str_no_interes))))\n",
    "\n",
    "#lema_interes_ordenado"
   ]
  },
  {
   "cell_type": "code",
   "execution_count": 37,
   "metadata": {},
   "outputs": [],
   "source": [
    "#lema_no_interes_ordenado"
   ]
  },
  {
   "cell_type": "markdown",
   "metadata": {},
   "source": [
    "## Extracción de características usando sklearn"
   ]
  },
  {
   "cell_type": "code",
   "execution_count": 155,
   "metadata": {},
   "outputs": [],
   "source": [
    "stop_words_es = np.genfromtxt('stop_words_es.txt', dtype='str')\n",
    "stop_words_es = formatear(pd.Series(stop_words_es))\n",
    "stop_words_es = list(map(lambda x: x, stop_words_es))"
   ]
  },
  {
   "cell_type": "code",
   "execution_count": 156,
   "metadata": {},
   "outputs": [],
   "source": [
    "tf_vectorizer = CountVectorizer(min_df=2, max_features=20, stop_words=stop_words_es)\n",
    "data = formatear(strings)\n",
    "#pdb.set_trace()\n",
    "dtm_tf = tf_vectorizer.fit_transform(data)"
   ]
  },
  {
   "cell_type": "markdown",
   "metadata": {},
   "source": [
    "## Aplicando Latent Dirichlet Allocation"
   ]
  },
  {
   "cell_type": "code",
   "execution_count": 149,
   "metadata": {},
   "outputs": [],
   "source": [
    "def print_top_words(model, feature_names, n_top_words):\n",
    "    for topic_idx, topic in enumerate(model.components_):\n",
    "        message = \"Topic #%d: \" % topic_idx\n",
    "        message += \" \".join([feature_names[i]\n",
    "                             for i in topic.argsort()[:-n_top_words - 1:-1]])\n",
    "        print(message)\n",
    "    print()"
   ]
  },
  {
   "cell_type": "code",
   "execution_count": 157,
   "metadata": {},
   "outputs": [],
   "source": [
    "lda = LatentDirichletAllocation(n_components=3, max_iter=10,\n",
    "                                learning_method='online',\n",
    "                                learning_offset=10,\n",
    "                                random_state=1)"
   ]
  },
  {
   "cell_type": "code",
   "execution_count": 158,
   "metadata": {},
   "outputs": [
    {
     "name": "stdout",
     "output_type": "stream",
     "text": [
      "\n",
      "Topics in LDA model:\n",
      "Topic #0: pinera bachelet sebastian chile gobierno cierre\n",
      "Topic #1: pinera peuco punta pais bachelet piera\n",
      "Topic #2: pinera mando macri cambio domingo sebastian\n",
      "\n"
     ]
    }
   ],
   "source": [
    "n_top_words = 6\n",
    "lda.fit(dtm_tf)\n",
    "print(\"\\nTopics in LDA model:\")\n",
    "tf_feature_names = tf_vectorizer.get_feature_names()\n",
    "print_top_words(lda, tf_feature_names, n_top_words)"
   ]
  },
  {
   "cell_type": "code",
   "execution_count": 159,
   "metadata": {},
   "outputs": [
    {
     "name": "stderr",
     "output_type": "stream",
     "text": [
      "/home/martin/.local/lib/python3.5/site-packages/pyLDAvis/_prepare.py:387: DeprecationWarning: \n",
      ".ix is deprecated. Please use\n",
      ".loc for label based indexing or\n",
      ".iloc for positional indexing\n",
      "\n",
      "See the documentation here:\n",
      "http://pandas.pydata.org/pandas-docs/stable/indexing.html#ix-indexer-is-deprecated\n",
      "  topic_term_dists = topic_term_dists.ix[topic_order]\n"
     ]
    },
    {
     "data": {
      "text/html": [
       "\n",
       "<link rel=\"stylesheet\" type=\"text/css\" href=\"https://cdn.rawgit.com/bmabey/pyLDAvis/files/ldavis.v1.0.0.css\">\n",
       "\n",
       "\n",
       "<div id=\"ldavis_el45131399638498134726610001408\"></div>\n",
       "<script type=\"text/javascript\">\n",
       "\n",
       "var ldavis_el45131399638498134726610001408_data = {\"R\": 20, \"plot.opts\": {\"ylab\": \"PC2\", \"xlab\": \"PC1\"}, \"lambda.step\": 0.01, \"mdsDat\": {\"Freq\": [47.21388466684602, 26.461519386045385, 26.324595947108598], \"x\": [0.11446508733374505, -0.1577834661924855, 0.04331837885874051], \"cluster\": [1, 1, 1], \"topics\": [1, 2, 3], \"y\": [0.08917807273142667, 0.03154981666811357, -0.1207278893995402]}, \"topic.order\": [1, 2, 3], \"tinfo\": {\"Freq\": [16.0, 16.0, 10.0, 8.0, 9.0, 7.0, 10.0, 7.0, 13.0, 6.0, 6.0, 14.0, 122.0, 5.0, 20.0, 23.0, 4.0, 31.0, 4.0, 5.0, 13.368936582005501, 3.368804529299942, 87.49827130688762, 14.416879886948179, 14.66826079939582, 3.101205400714882, 18.315383970414796, 2.629121834352305, 0.7264339327265128, 0.41626378407256037, 0.3993600411544498, 0.7637474611471335, 0.4238105422403435, 0.45652427489042086, 0.35437734192859494, 0.35110443020767335, 0.3916460072293861, 0.37594558074323764, 0.4327827080270687, 0.42904168623235583, 15.460255340747354, 15.047458144949045, 7.821629982501697, 7.8774331333667895, 7.724161862160371, 3.131796634218782, 7.874492967432264, 1.0894392981798677, 17.96764816854588, 2.7126547054175387, 0.46882439897487693, 0.35909731829889624, 0.4337192321262488, 0.5583420958617885, 0.3344844365193791, 1.0244083909492925, 0.345763557382501, 0.3400949294599673, 0.3721479089516065, 0.34838937581242596, 9.848387100019876, 6.914970375014118, 6.741422794284031, 7.403331515580997, 5.579076122038284, 5.05501547630329, 2.0844788718836607, 1.7219775931075918, 4.5247268735761015, 6.616929263035823, 5.100168240317474, 1.9022083657343327, 0.9617681712391583, 0.8393693652885756, 5.31215948785786, 16.666373114064783, 0.8739716077471422, 0.9870113665484336, 0.8577186776002775, 0.8287916362828665], \"loglift\": [20.0, 19.0, 18.0, 17.0, 16.0, 15.0, 14.0, 13.0, 12.0, 11.0, 10.0, 9.0, 8.0, 7.0, 6.0, 5.0, 4.0, 3.0, 2.0, 1.0, 0.6553, 0.4224, 0.417, 0.3964, 0.2582, 0.2428, 0.2082, 0.1674, -1.38, -1.8545, -2.0256, -2.085, -2.1244, -2.2476, -2.3163, -2.414, -2.5065, -2.5884, -2.8805, -2.9122, 1.2513, 1.2472, 1.1724, 1.0739, 0.8079, 0.7425, -0.0569, -0.2243, -0.5871, -0.8506, -0.9707, -1.2444, -1.3641, -1.3711, -1.5766, -1.6689, -1.7489, -1.7784, -2.0195, -2.4131, 1.2615, 1.239, 1.2266, 1.2188, 1.1955, 1.1441, 0.3406, 0.3284, 0.2783, 0.0463, -0.0585, -0.3419, -0.3438, -0.3831, -0.4454, -0.657, -1.014, -1.3665, -1.6123, -1.6696], \"logprob\": [20.0, 19.0, 18.0, 17.0, 16.0, 15.0, 14.0, 13.0, 12.0, 11.0, 10.0, 9.0, 8.0, 7.0, 6.0, 5.0, 4.0, 3.0, 2.0, 1.0, -2.5001, -3.8785, -0.6214, -2.4247, -2.4074, -3.9613, -2.1853, -4.1264, -5.4127, -5.9695, -6.011, -5.3626, -5.9515, -5.8772, -6.1305, -6.1397, -6.0305, -6.0714, -5.9306, -5.9393, -1.7758, -1.8029, -2.4572, -2.4501, -2.4697, -3.3725, -2.4504, -4.4284, -1.6255, -3.5161, -5.2716, -5.5382, -5.3494, -5.0968, -5.6092, -4.49, -5.5761, -5.5926, -5.5025, -5.5685, -2.2216, -2.5752, -2.6006, -2.5069, -2.7899, -2.8885, -3.7744, -3.9654, -2.9993, -2.6192, -2.8796, -3.8659, -4.5479, -4.684, -2.8389, -1.6955, -4.6436, -4.522, -4.6624, -4.6967], \"Category\": [\"Default\", \"Default\", \"Default\", \"Default\", \"Default\", \"Default\", \"Default\", \"Default\", \"Default\", \"Default\", \"Default\", \"Default\", \"Default\", \"Default\", \"Default\", \"Default\", \"Default\", \"Default\", \"Default\", \"Default\", \"Topic1\", \"Topic1\", \"Topic1\", \"Topic1\", \"Topic1\", \"Topic1\", \"Topic1\", \"Topic1\", \"Topic1\", \"Topic1\", \"Topic1\", \"Topic1\", \"Topic1\", \"Topic1\", \"Topic1\", \"Topic1\", \"Topic1\", \"Topic1\", \"Topic1\", \"Topic1\", \"Topic2\", \"Topic2\", \"Topic2\", \"Topic2\", \"Topic2\", \"Topic2\", \"Topic2\", \"Topic2\", \"Topic2\", \"Topic2\", \"Topic2\", \"Topic2\", \"Topic2\", \"Topic2\", \"Topic2\", \"Topic2\", \"Topic2\", \"Topic2\", \"Topic2\", \"Topic2\", \"Topic3\", \"Topic3\", \"Topic3\", \"Topic3\", \"Topic3\", \"Topic3\", \"Topic3\", \"Topic3\", \"Topic3\", \"Topic3\", \"Topic3\", \"Topic3\", \"Topic3\", \"Topic3\", \"Topic3\", \"Topic3\", \"Topic3\", \"Topic3\", \"Topic3\", \"Topic3\"], \"Term\": [\"peuco\", \"punta\", \"mando\", \"macri\", \"piera\", \"cambio\", \"pais\", \"domingo\", \"presidente\", \"asuncion\", \"pone\", \"gobierno\", \"pinera\", \"reunion\", \"chile\", \"sebastian\", \"nuevo\", \"bachelet\", \"cierre\", \"manana\", \"gobierno\", \"cierre\", \"pinera\", \"chile\", \"sebastian\", \"manana\", \"bachelet\", \"nuevo\", \"pone\", \"reunion\", \"asuncion\", \"presidente\", \"domingo\", \"piera\", \"cambio\", \"macri\", \"pais\", \"mando\", \"punta\", \"peuco\", \"peuco\", \"punta\", \"piera\", \"pais\", \"presidente\", \"reunion\", \"bachelet\", \"manana\", \"pinera\", \"sebastian\", \"cierre\", \"nuevo\", \"asuncion\", \"macri\", \"pone\", \"chile\", \"domingo\", \"cambio\", \"mando\", \"gobierno\", \"mando\", \"cambio\", \"domingo\", \"macri\", \"asuncion\", \"pone\", \"reunion\", \"nuevo\", \"presidente\", \"sebastian\", \"chile\", \"pais\", \"manana\", \"cierre\", \"bachelet\", \"pinera\", \"piera\", \"gobierno\", \"punta\", \"peuco\"], \"Total\": [16.0, 16.0, 10.0, 8.0, 9.0, 7.0, 10.0, 7.0, 13.0, 6.0, 6.0, 14.0, 122.0, 5.0, 20.0, 23.0, 4.0, 31.0, 4.0, 5.0, 14.70433732436636, 4.676998293563394, 122.13229258949828, 20.541456518214943, 23.99784476784918, 5.152412870133908, 31.502036425704922, 4.710196745758793, 6.115933845549182, 5.6325392901750035, 6.412155395318983, 13.012636196883607, 7.510996893906875, 9.15212586513926, 7.60944264640268, 8.312778041650459, 10.17128750633051, 10.59648058971472, 16.33795953057639, 16.718088663262577, 16.718088663262577, 16.33795953057639, 9.15212586513926, 10.17128750633051, 13.012636196883607, 5.6325392901750035, 31.502036425704922, 5.152412870133908, 122.13229258949828, 23.99784476784918, 4.676998293563394, 4.710196745758793, 6.412155395318983, 8.312778041650459, 6.115933845549182, 20.541456518214943, 7.510996893906875, 7.60944264640268, 10.59648058971472, 14.70433732436636, 10.59648058971472, 7.60944264640268, 7.510996893906875, 8.312778041650459, 6.412155395318983, 6.115933845549182, 5.6325392901750035, 4.710196745758793, 13.012636196883607, 23.99784476784918, 20.541456518214943, 10.17128750633051, 5.152412870133908, 4.676998293563394, 31.502036425704922, 122.13229258949828, 9.15212586513926, 14.70433732436636, 16.33795953057639, 16.718088663262577]}, \"token.table\": {\"Topic\": [3, 1, 2, 3, 3, 1, 2, 3, 1, 3, 3, 1, 3, 2, 3, 1, 2, 3, 3, 1, 3, 2, 3, 2, 3, 2, 3, 1, 2, 3, 1, 3, 1, 2, 3, 2, 3, 2, 3, 1, 2, 3], \"Freq\": [0.9357227999153193, 0.5713916318537561, 0.2539518363794471, 0.15871989773715445, 0.9199096865930396, 0.6815485546307601, 0.04868203961648286, 0.24341019808241432, 0.6414370525062362, 0.21381235083541206, 0.9319668346126717, 0.8840928845163171, 0.06800714496279363, 0.12029672812020074, 0.8420770968414052, 0.582251476272326, 0.19408382542410865, 0.19408382542410865, 0.9437095567094529, 0.6369160699500064, 0.42461071330000427, 0.7865277620970677, 0.1966319405242669, 0.8972317531107478, 0.059815450207383186, 0.874113852659332, 0.1092642315824165, 0.7123423146769032, 0.14738116855384206, 0.13919332585640637, 0.16350732778572177, 0.817536638928609, 0.07684837913469753, 0.6147870330775802, 0.38424189567348765, 0.9181073053784711, 0.06120715369189807, 0.5326194537573815, 0.35507963583825436, 0.6250561308778889, 0.12501122617557778, 0.2916928610763482], \"Term\": [\"asuncion\", \"bachelet\", \"bachelet\", \"bachelet\", \"cambio\", \"chile\", \"chile\", \"chile\", \"cierre\", \"cierre\", \"domingo\", \"gobierno\", \"gobierno\", \"macri\", \"macri\", \"manana\", \"manana\", \"manana\", \"mando\", \"nuevo\", \"nuevo\", \"pais\", \"pais\", \"peuco\", \"peuco\", \"piera\", \"piera\", \"pinera\", \"pinera\", \"pinera\", \"pone\", \"pone\", \"presidente\", \"presidente\", \"presidente\", \"punta\", \"punta\", \"reunion\", \"reunion\", \"sebastian\", \"sebastian\", \"sebastian\"]}};\n",
       "\n",
       "function LDAvis_load_lib(url, callback){\n",
       "  var s = document.createElement('script');\n",
       "  s.src = url;\n",
       "  s.async = true;\n",
       "  s.onreadystatechange = s.onload = callback;\n",
       "  s.onerror = function(){console.warn(\"failed to load library \" + url);};\n",
       "  document.getElementsByTagName(\"head\")[0].appendChild(s);\n",
       "}\n",
       "\n",
       "if(typeof(LDAvis) !== \"undefined\"){\n",
       "   // already loaded: just create the visualization\n",
       "   !function(LDAvis){\n",
       "       new LDAvis(\"#\" + \"ldavis_el45131399638498134726610001408\", ldavis_el45131399638498134726610001408_data);\n",
       "   }(LDAvis);\n",
       "}else if(typeof define === \"function\" && define.amd){\n",
       "   // require.js is available: use it to load d3/LDAvis\n",
       "   require.config({paths: {d3: \"https://cdnjs.cloudflare.com/ajax/libs/d3/3.5.5/d3.min\"}});\n",
       "   require([\"d3\"], function(d3){\n",
       "      window.d3 = d3;\n",
       "      LDAvis_load_lib(\"https://cdn.rawgit.com/bmabey/pyLDAvis/files/ldavis.v1.0.0.js\", function(){\n",
       "        new LDAvis(\"#\" + \"ldavis_el45131399638498134726610001408\", ldavis_el45131399638498134726610001408_data);\n",
       "      });\n",
       "    });\n",
       "}else{\n",
       "    // require.js not available: dynamically load d3 & LDAvis\n",
       "    LDAvis_load_lib(\"https://cdnjs.cloudflare.com/ajax/libs/d3/3.5.5/d3.min.js\", function(){\n",
       "         LDAvis_load_lib(\"https://cdn.rawgit.com/bmabey/pyLDAvis/files/ldavis.v1.0.0.js\", function(){\n",
       "                 new LDAvis(\"#\" + \"ldavis_el45131399638498134726610001408\", ldavis_el45131399638498134726610001408_data);\n",
       "            })\n",
       "         });\n",
       "}\n",
       "</script>"
      ],
      "text/plain": [
       "PreparedData(topic_coordinates=            Freq  cluster  topics         x         y\n",
       "topic                                                \n",
       "0      47.213885        1       1  0.114465  0.089178\n",
       "1      26.461519        1       2 -0.157783  0.031550\n",
       "2      26.324596        1       3  0.043318 -0.120728, topic_info=     Category        Freq        Term       Total  loglift  logprob\n",
       "term                                                               \n",
       "12    Default   16.000000       peuco   16.000000  20.0000  20.0000\n",
       "17    Default   16.000000       punta   16.000000  19.0000  19.0000\n",
       "9     Default   10.000000       mando   10.000000  18.0000  18.0000\n",
       "7     Default    8.000000       macri    8.000000  17.0000  17.0000\n",
       "13    Default    9.000000       piera    9.000000  16.0000  16.0000\n",
       "2     Default    7.000000      cambio    7.000000  15.0000  15.0000\n",
       "11    Default   10.000000        pais   10.000000  14.0000  14.0000\n",
       "5     Default    7.000000     domingo    7.000000  13.0000  13.0000\n",
       "16    Default   13.000000  presidente   13.000000  12.0000  12.0000\n",
       "0     Default    6.000000    asuncion    6.000000  11.0000  11.0000\n",
       "15    Default    6.000000        pone    6.000000  10.0000  10.0000\n",
       "6     Default   14.000000    gobierno   14.000000   9.0000   9.0000\n",
       "14    Default  122.000000      pinera  122.000000   8.0000   8.0000\n",
       "18    Default    5.000000     reunion    5.000000   7.0000   7.0000\n",
       "3     Default   20.000000       chile   20.000000   6.0000   6.0000\n",
       "19    Default   23.000000   sebastian   23.000000   5.0000   5.0000\n",
       "10    Default    4.000000       nuevo    4.000000   4.0000   4.0000\n",
       "1     Default   31.000000    bachelet   31.000000   3.0000   3.0000\n",
       "4     Default    4.000000      cierre    4.000000   2.0000   2.0000\n",
       "8     Default    5.000000      manana    5.000000   1.0000   1.0000\n",
       "6      Topic1   13.368937    gobierno   14.704337   0.6553  -2.5001\n",
       "4      Topic1    3.368805      cierre    4.676998   0.4224  -3.8785\n",
       "14     Topic1   87.498271      pinera  122.132293   0.4170  -0.6214\n",
       "3      Topic1   14.416880       chile   20.541457   0.3964  -2.4247\n",
       "19     Topic1   14.668261   sebastian   23.997845   0.2582  -2.4074\n",
       "8      Topic1    3.101205      manana    5.152413   0.2428  -3.9613\n",
       "1      Topic1   18.315384    bachelet   31.502036   0.2082  -2.1853\n",
       "10     Topic1    2.629122       nuevo    4.710197   0.1674  -4.1264\n",
       "15     Topic1    0.726434        pone    6.115934  -1.3800  -5.4127\n",
       "18     Topic1    0.416264     reunion    5.632539  -1.8545  -5.9695\n",
       "...       ...         ...         ...         ...      ...      ...\n",
       "4      Topic2    0.468824      cierre    4.676998  -0.9707  -5.2716\n",
       "10     Topic2    0.359097       nuevo    4.710197  -1.2444  -5.5382\n",
       "0      Topic2    0.433719    asuncion    6.412155  -1.3641  -5.3494\n",
       "7      Topic2    0.558342       macri    8.312778  -1.3711  -5.0968\n",
       "15     Topic2    0.334484        pone    6.115934  -1.5766  -5.6092\n",
       "3      Topic2    1.024408       chile   20.541457  -1.6689  -4.4900\n",
       "5      Topic2    0.345764     domingo    7.510997  -1.7489  -5.5761\n",
       "2      Topic2    0.340095      cambio    7.609443  -1.7784  -5.5926\n",
       "9      Topic2    0.372148       mando   10.596481  -2.0195  -5.5025\n",
       "6      Topic2    0.348389    gobierno   14.704337  -2.4131  -5.5685\n",
       "9      Topic3    9.848387       mando   10.596481   1.2615  -2.2216\n",
       "2      Topic3    6.914970      cambio    7.609443   1.2390  -2.5752\n",
       "5      Topic3    6.741423     domingo    7.510997   1.2266  -2.6006\n",
       "7      Topic3    7.403332       macri    8.312778   1.2188  -2.5069\n",
       "0      Topic3    5.579076    asuncion    6.412155   1.1955  -2.7899\n",
       "15     Topic3    5.055015        pone    6.115934   1.1441  -2.8885\n",
       "18     Topic3    2.084479     reunion    5.632539   0.3406  -3.7744\n",
       "10     Topic3    1.721978       nuevo    4.710197   0.3284  -3.9654\n",
       "16     Topic3    4.524727  presidente   13.012636   0.2783  -2.9993\n",
       "19     Topic3    6.616929   sebastian   23.997845   0.0463  -2.6192\n",
       "3      Topic3    5.100168       chile   20.541457  -0.0585  -2.8796\n",
       "11     Topic3    1.902208        pais   10.171288  -0.3419  -3.8659\n",
       "8      Topic3    0.961768      manana    5.152413  -0.3438  -4.5479\n",
       "4      Topic3    0.839369      cierre    4.676998  -0.3831  -4.6840\n",
       "1      Topic3    5.312159    bachelet   31.502036  -0.4454  -2.8389\n",
       "14     Topic3   16.666373      pinera  122.132293  -0.6570  -1.6955\n",
       "13     Topic3    0.873972       piera    9.152126  -1.0140  -4.6436\n",
       "6      Topic3    0.987011    gobierno   14.704337  -1.3665  -4.5220\n",
       "17     Topic3    0.857719       punta   16.337960  -1.6123  -4.6624\n",
       "12     Topic3    0.828792       peuco   16.718089  -1.6696  -4.6967\n",
       "\n",
       "[80 rows x 6 columns], token_table=      Topic      Freq        Term\n",
       "term                             \n",
       "0         3  0.935723    asuncion\n",
       "1         1  0.571392    bachelet\n",
       "1         2  0.253952    bachelet\n",
       "1         3  0.158720    bachelet\n",
       "2         3  0.919910      cambio\n",
       "3         1  0.681549       chile\n",
       "3         2  0.048682       chile\n",
       "3         3  0.243410       chile\n",
       "4         1  0.641437      cierre\n",
       "4         3  0.213812      cierre\n",
       "5         3  0.931967     domingo\n",
       "6         1  0.884093    gobierno\n",
       "6         3  0.068007    gobierno\n",
       "7         2  0.120297       macri\n",
       "7         3  0.842077       macri\n",
       "8         1  0.582251      manana\n",
       "8         2  0.194084      manana\n",
       "8         3  0.194084      manana\n",
       "9         3  0.943710       mando\n",
       "10        1  0.636916       nuevo\n",
       "10        3  0.424611       nuevo\n",
       "11        2  0.786528        pais\n",
       "11        3  0.196632        pais\n",
       "12        2  0.897232       peuco\n",
       "12        3  0.059815       peuco\n",
       "13        2  0.874114       piera\n",
       "13        3  0.109264       piera\n",
       "14        1  0.712342      pinera\n",
       "14        2  0.147381      pinera\n",
       "14        3  0.139193      pinera\n",
       "15        1  0.163507        pone\n",
       "15        3  0.817537        pone\n",
       "16        1  0.076848  presidente\n",
       "16        2  0.614787  presidente\n",
       "16        3  0.384242  presidente\n",
       "17        2  0.918107       punta\n",
       "17        3  0.061207       punta\n",
       "18        2  0.532619     reunion\n",
       "18        3  0.355080     reunion\n",
       "19        1  0.625056   sebastian\n",
       "19        2  0.125011   sebastian\n",
       "19        3  0.291693   sebastian, R=20, lambda_step=0.01, plot_opts={'ylab': 'PC2', 'xlab': 'PC1'}, topic_order=[1, 2, 3])"
      ]
     },
     "execution_count": 159,
     "metadata": {},
     "output_type": "execute_result"
    }
   ],
   "source": [
    "pyLDAvis.sklearn.prepare(lda, dtm_tf, tf_vectorizer)"
   ]
  }
 ],
 "metadata": {
  "kernelspec": {
   "display_name": "Python 3",
   "language": "python",
   "name": "python3"
  },
  "language_info": {
   "codemirror_mode": {
    "name": "ipython",
    "version": 3
   },
   "file_extension": ".py",
   "mimetype": "text/x-python",
   "name": "python",
   "nbconvert_exporter": "python",
   "pygments_lexer": "ipython3",
   "version": "3.5.2"
  }
 },
 "nbformat": 4,
 "nbformat_minor": 2
}
