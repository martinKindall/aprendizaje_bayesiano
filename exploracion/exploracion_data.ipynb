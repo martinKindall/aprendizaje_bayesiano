{
 "cells": [
  {
   "cell_type": "markdown",
   "metadata": {},
   "source": [
    "# Proyecto Final: Clasificación de tópicos de interés\n",
    "\n",
    "## Exploración de datos\n",
    "\n",
    "\n",
    "CC5113 - Aprendizaje Automático Bayesiano\n",
    "\n",
    "Profesor: Pablo Guerrero\n",
    "\n",
    "Autor: Martín Cornejo"
   ]
  },
  {
   "cell_type": "markdown",
   "metadata": {},
   "source": [
    "## Paquetes necesarios"
   ]
  },
  {
   "cell_type": "code",
   "execution_count": 2,
   "metadata": {},
   "outputs": [],
   "source": [
    "import numpy as np\n",
    "import matplotlib.pyplot as plt\n",
    "import pdb\n",
    "\n",
    "import pandas as pd"
   ]
  },
  {
   "cell_type": "code",
   "execution_count": 6,
   "metadata": {},
   "outputs": [
    {
     "name": "stdout",
     "output_type": "stream",
     "text": [
      "(138, 2)\n",
      "--Return--\n",
      "> <ipython-input-6-5ec0b1006911>(4)<module>()->None\n",
      "-> pdb.set_trace()\n",
      "(Pdb) datos.ix[:,0]\n"
     ]
    },
    {
     "name": "stderr",
     "output_type": "stream",
     "text": [
      "/usr/local/lib/python3.5/dist-packages/ipykernel_launcher.py:1: DeprecationWarning: \n",
      ".ix is deprecated. Please use\n",
      ".loc for label based indexing or\n",
      ".iloc for positional indexing\n",
      "\n",
      "See the documentation here:\n",
      "http://pandas.pydata.org/pandas-docs/stable/indexing.html#ix-indexer-is-deprecated\n",
      "  \"\"\"Entry point for launching an IPython kernel.\n"
     ]
    },
    {
     "name": "stdout",
     "output_type": "stream",
     "text": [
      "0      Ojalá obliguen a Piñera a cerrar Punta Peuco, ...\n",
      "1      Piñera para crear base de apoyo moderada a su ...\n",
      "2      @CNNChile MEMORIA 2014 Adimark: Piñera termina...\n",
      "3      PPK y Piñera en privado habrían conversado alg...\n",
      "4       Bachelet entregará el gobierno de Chile a Piñera\n",
      "5                                        bloq pal piñera\n",
      "6      @ElNacionalWeb Pues esa precion llevara a Piñe...\n",
      "7      ¿Podrá Piñera convertir a Chile en un país del...\n",
      "8      @marcemorenomend Por todo esto gracias Pdte Pi...\n",
      "9      ja ja ja,,, te repito,,, YO NO APOYO A LADRONE...\n",
      "10     CierrePuntaPeuco Consagra tanto a M.B (broche ...\n",
      "11     Un millar de invitados estarán presentes en la...\n",
      "12     Macri asistirá este domingo a la asunción del ...\n",
      "13     PPK y Piñera se reunieron en Academia Diplomát...\n",
      "14     Como sería si Evo mañana se pone jugoso,fuera ...\n",
      "15     Fracasó la campaña de \"El Mercurio\" para imped...\n",
      "16     Macri viajará a Chile para la asunción de Seba...\n",
      "17               No quiero que sea mañana 😩, Piñera ctm.\n",
      "18     La presidenta saliente de Chile, Michelle Bach...\n",
      "19     El presidente boliviano Evo Morales llegó hoy ...\n",
      "20     Coincido, Piñera no se hará problema, le impor...\n",
      "21     PPK y Piñera se reunieron en Academia Diplomát...\n",
      "22     Mauricio Macri viaja a Chile para asistir a la...\n",
      "23                  piñera culiao no te queremossssss :)\n",
      "24     A un día de tomar el mando, Sebastián Piñera l...\n",
      "25     La foto oficial del Presidente Piñera pudo hab...\n",
      "26     Opinión | ¿Podrá Piñera convertir a #Chile en ...\n",
      "27     como primer acto oficial, #Piñera irá a un cen...\n",
      "28     Sebastián Piñera y Donald Trump podrían encont...\n",
      "29     @EstoyConPinera @sebastianpinera Sebastián Piñ...\n",
      "                             ...                        \n",
      "108    Reunión con Juan Carlos I y otras autoridades:...\n",
      "109    seguro que pedirá reunion con Piñera y le dira...\n",
      "110                     piñera es un in somnia XKJSKSKFJ\n",
      "111    @ACatapluto Rule of law: cómo actuarías si Piñ...\n",
      "112    Piñera llegó a Cerro Castillo en las horas pre...\n",
      "113    Kuczynski calificó de \"muy positiva\" reunión c...\n",
      "114    Ya se sabe lo de piñera sera lo mismo, aumenta...\n",
      "115    Cuando creyó que Piñera perdía dijo que la udi...\n",
      "116    [Fotos] La movida agenda de Sebastián Piñera a...\n",
      "117    Así será la primera actividad de Sebastián Piñ...\n",
      "118    Ahora noticias sobre: #Bachelet, #Punta, #Peuc...\n",
      "119                   Qué hueá la mano de Piñera hueóoon\n",
      "120    Presidente Moreno mantuvo reunión con Sebastiá...\n",
      "121    El lunes el Gran Presidente Sebastián Piñera v...\n",
      "122    Los retos que enfrentará Sebastián Piñera en s...\n",
      "123    Yo vote por Piñera y fui crítico en tweter de ...\n",
      "124    Bien que la guatona corrupta Bachelet cierre P...\n",
      "125    No me pone triste que se vaya Bachelet. Me pon...\n",
      "126    Abogado de los reos de Punta Peuco: \"Si el pen...\n",
      "127    que Piñera y su gente,hagan un sahumerio y ven...\n",
      "128                                      ctm piñera qlio\n",
      "129    @lmrendon @fbaezurbina Bachelet no se atrevió ...\n",
      "130    La Bachelet no merece respeto, elegida por una...\n",
      "131    EL ABOGADO DE LOS REOS DE PUNTA PEUCO AFIRMO L...\n",
      "132    @AngolMamalcahue @aleriquelme @HQGatica Tambié...\n",
      "133    @bullatop Jajaka esta como el monumento del 27...\n",
      "134    Asume Piñera y con el se sumarán todos los int...\n",
      "135    @cbellolio Es esa misma gente retrasada que sa...\n",
      "136    América Latina: Los retos y logros que Piñera ...\n",
      "137    La doctora Gloria Burgos, médico de La Chile, ...\n",
      "Name: Texto, Length: 138, dtype: object\n",
      "(Pdb) datos.loc('Texto')\n",
      "*** ValueError: No axis named Texto for object type <class 'pandas.core.frame.DataFrame'>\n",
      "(Pdb) datos.loc['Texto']\n",
      "*** KeyError: 'the label [Texto] is not in the [index]'\n",
      "(Pdb) datos.ix[:,1]\n",
      "0      False\n",
      "1       True\n",
      "2       True\n",
      "3      False\n",
      "4       True\n",
      "5      False\n",
      "6      False\n",
      "7       True\n",
      "8      False\n",
      "9      False\n",
      "10      True\n",
      "11      True\n",
      "12      True\n",
      "13     False\n",
      "14      True\n",
      "15     False\n",
      "16      True\n",
      "17     False\n",
      "18      True\n",
      "19      True\n",
      "20     False\n",
      "21     False\n",
      "22      True\n",
      "23     False\n",
      "24      True\n",
      "25      True\n",
      "26      True\n",
      "27      True\n",
      "28     False\n",
      "29     False\n",
      "       ...  \n",
      "108     True\n",
      "109    False\n",
      "110    False\n",
      "111    False\n",
      "112     True\n",
      "113     True\n",
      "114     True\n",
      "115    False\n",
      "116     True\n",
      "117     True\n",
      "118     True\n",
      "119    False\n",
      "120     True\n",
      "121     True\n",
      "122     True\n",
      "123     True\n",
      "124     True\n",
      "125     True\n",
      "126    False\n",
      "127    False\n",
      "128    False\n",
      "129     True\n",
      "130     True\n",
      "131    False\n",
      "132    False\n",
      "133     True\n",
      "134     True\n",
      "135    False\n",
      "136     True\n",
      "137     True\n",
      "Name: Interes, Length: 138, dtype: bool\n",
      "(Pdb) c\n"
     ]
    },
    {
     "data": {
      "text/html": [
       "<div>\n",
       "<style scoped>\n",
       "    .dataframe tbody tr th:only-of-type {\n",
       "        vertical-align: middle;\n",
       "    }\n",
       "\n",
       "    .dataframe tbody tr th {\n",
       "        vertical-align: top;\n",
       "    }\n",
       "\n",
       "    .dataframe thead th {\n",
       "        text-align: right;\n",
       "    }\n",
       "</style>\n",
       "<table border=\"1\" class=\"dataframe\">\n",
       "  <thead>\n",
       "    <tr style=\"text-align: right;\">\n",
       "      <th></th>\n",
       "      <th>Texto</th>\n",
       "      <th>Interes</th>\n",
       "    </tr>\n",
       "  </thead>\n",
       "  <tbody>\n",
       "    <tr>\n",
       "      <th>0</th>\n",
       "      <td>Ojalá obliguen a Piñera a cerrar Punta Peuco, ...</td>\n",
       "      <td>False</td>\n",
       "    </tr>\n",
       "    <tr>\n",
       "      <th>1</th>\n",
       "      <td>Piñera para crear base de apoyo moderada a su ...</td>\n",
       "      <td>True</td>\n",
       "    </tr>\n",
       "    <tr>\n",
       "      <th>2</th>\n",
       "      <td>@CNNChile MEMORIA 2014 Adimark: Piñera termina...</td>\n",
       "      <td>True</td>\n",
       "    </tr>\n",
       "    <tr>\n",
       "      <th>3</th>\n",
       "      <td>PPK y Piñera en privado habrían conversado alg...</td>\n",
       "      <td>False</td>\n",
       "    </tr>\n",
       "    <tr>\n",
       "      <th>4</th>\n",
       "      <td>Bachelet entregará el gobierno de Chile a Piñera</td>\n",
       "      <td>True</td>\n",
       "    </tr>\n",
       "  </tbody>\n",
       "</table>\n",
       "</div>"
      ],
      "text/plain": [
       "                                               Texto  Interes\n",
       "0  Ojalá obliguen a Piñera a cerrar Punta Peuco, ...    False\n",
       "1  Piñera para crear base de apoyo moderada a su ...     True\n",
       "2  @CNNChile MEMORIA 2014 Adimark: Piñera termina...     True\n",
       "3  PPK y Piñera en privado habrían conversado alg...    False\n",
       "4   Bachelet entregará el gobierno de Chile a Piñera     True"
      ]
     },
     "execution_count": 6,
     "metadata": {},
     "output_type": "execute_result"
    }
   ],
   "source": [
    "#data = np.genfromtxt('data_format.csv', delimiter='')\n",
    "datos=pd.read_csv('data_format.csv')\n",
    "print(datos.shape)\n",
    "pdb.set_trace()\n",
    "datos.head()"
   ]
  },
  {
   "cell_type": "markdown",
   "metadata": {},
   "source": [
    "## Regex"
   ]
  },
  {
   "cell_type": "markdown",
   "metadata": {},
   "source": [
    "### Reemplazar tildes"
   ]
  },
  {
   "cell_type": "code",
   "execution_count": 17,
   "metadata": {},
   "outputs": [
    {
     "ename": "AttributeError",
     "evalue": "'DataFrame' object has no attribute 'str'",
     "output_type": "error",
     "traceback": [
      "\u001b[0;31m---------------------------------------------------------------------------\u001b[0m",
      "\u001b[0;31mAttributeError\u001b[0m                            Traceback (most recent call last)",
      "\u001b[0;32m<ipython-input-17-0a4b672a91d3>\u001b[0m in \u001b[0;36m<module>\u001b[0;34m()\u001b[0m\n\u001b[0;32m----> 1\u001b[0;31m \u001b[0mdatos\u001b[0m\u001b[0;34m.\u001b[0m\u001b[0mstr\u001b[0m\u001b[0;34m.\u001b[0m\u001b[0mreplace\u001b[0m\u001b[0;34m(\u001b[0m\u001b[0;34m'á'\u001b[0m\u001b[0;34m,\u001b[0m\u001b[0;34m'a'\u001b[0m\u001b[0;34m)\u001b[0m\u001b[0;34m\u001b[0m\u001b[0m\n\u001b[0m\u001b[1;32m      2\u001b[0m \u001b[0mdatos\u001b[0m\u001b[0;34m.\u001b[0m\u001b[0mhead\u001b[0m\u001b[0;34m(\u001b[0m\u001b[0;34m)\u001b[0m\u001b[0;34m\u001b[0m\u001b[0m\n",
      "\u001b[0;32m~/.local/lib/python3.5/site-packages/pandas/core/generic.py\u001b[0m in \u001b[0;36m__getattr__\u001b[0;34m(self, name)\u001b[0m\n\u001b[1;32m   3612\u001b[0m             \u001b[0;32mif\u001b[0m \u001b[0mname\u001b[0m \u001b[0;32min\u001b[0m \u001b[0mself\u001b[0m\u001b[0;34m.\u001b[0m\u001b[0m_info_axis\u001b[0m\u001b[0;34m:\u001b[0m\u001b[0;34m\u001b[0m\u001b[0m\n\u001b[1;32m   3613\u001b[0m                 \u001b[0;32mreturn\u001b[0m \u001b[0mself\u001b[0m\u001b[0;34m[\u001b[0m\u001b[0mname\u001b[0m\u001b[0;34m]\u001b[0m\u001b[0;34m\u001b[0m\u001b[0m\n\u001b[0;32m-> 3614\u001b[0;31m             \u001b[0;32mreturn\u001b[0m \u001b[0mobject\u001b[0m\u001b[0;34m.\u001b[0m\u001b[0m__getattribute__\u001b[0m\u001b[0;34m(\u001b[0m\u001b[0mself\u001b[0m\u001b[0;34m,\u001b[0m \u001b[0mname\u001b[0m\u001b[0;34m)\u001b[0m\u001b[0;34m\u001b[0m\u001b[0m\n\u001b[0m\u001b[1;32m   3615\u001b[0m \u001b[0;34m\u001b[0m\u001b[0m\n\u001b[1;32m   3616\u001b[0m     \u001b[0;32mdef\u001b[0m \u001b[0m__setattr__\u001b[0m\u001b[0;34m(\u001b[0m\u001b[0mself\u001b[0m\u001b[0;34m,\u001b[0m \u001b[0mname\u001b[0m\u001b[0;34m,\u001b[0m \u001b[0mvalue\u001b[0m\u001b[0;34m)\u001b[0m\u001b[0;34m:\u001b[0m\u001b[0;34m\u001b[0m\u001b[0m\n",
      "\u001b[0;31mAttributeError\u001b[0m: 'DataFrame' object has no attribute 'str'"
     ]
    }
   ],
   "source": [
    "#strings = datos[]\n",
    "#datos.str.replace('á','a')\n",
    "#datos.head()"
   ]
  }
 ],
 "metadata": {
  "kernelspec": {
   "display_name": "Python 3",
   "language": "python",
   "name": "python3"
  },
  "language_info": {
   "codemirror_mode": {
    "name": "ipython",
    "version": 3
   },
   "file_extension": ".py",
   "mimetype": "text/x-python",
   "name": "python",
   "nbconvert_exporter": "python",
   "pygments_lexer": "ipython3",
   "version": "3.5.2"
  }
 },
 "nbformat": 4,
 "nbformat_minor": 2
}
