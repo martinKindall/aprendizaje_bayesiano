{
 "cells": [
  {
   "cell_type": "markdown",
   "metadata": {},
   "source": [
    "# Proyecto Final: Clasificación de tópicos de interés\n",
    "\n",
    "## Exploración de datos\n",
    "\n",
    "\n",
    "CC5113 - Aprendizaje Automático Bayesiano\n",
    "\n",
    "Profesor: Pablo Guerrero\n",
    "\n",
    "Autor: Martín Cornejo"
   ]
  },
  {
   "cell_type": "markdown",
   "metadata": {},
   "source": [
    "## Paquetes necesarios"
   ]
  },
  {
   "cell_type": "code",
   "execution_count": 66,
   "metadata": {},
   "outputs": [],
   "source": [
    "import numpy as np\n",
    "import matplotlib.pyplot as plt\n",
    "import pdb\n",
    "import itertools\n",
    "import operator\n",
    "\n",
    "import pandas as pd\n",
    "from nltk.stem.snowball import SpanishStemmer"
   ]
  },
  {
   "cell_type": "code",
   "execution_count": 43,
   "metadata": {},
   "outputs": [
    {
     "name": "stdout",
     "output_type": "stream",
     "text": [
      "(138, 2)\n"
     ]
    },
    {
     "data": {
      "text/html": [
       "<div>\n",
       "<style scoped>\n",
       "    .dataframe tbody tr th:only-of-type {\n",
       "        vertical-align: middle;\n",
       "    }\n",
       "\n",
       "    .dataframe tbody tr th {\n",
       "        vertical-align: top;\n",
       "    }\n",
       "\n",
       "    .dataframe thead th {\n",
       "        text-align: right;\n",
       "    }\n",
       "</style>\n",
       "<table border=\"1\" class=\"dataframe\">\n",
       "  <thead>\n",
       "    <tr style=\"text-align: right;\">\n",
       "      <th></th>\n",
       "      <th>Texto</th>\n",
       "      <th>Interes</th>\n",
       "    </tr>\n",
       "  </thead>\n",
       "  <tbody>\n",
       "    <tr>\n",
       "      <th>0</th>\n",
       "      <td>Ojalá obliguen a Piñera a cerrar Punta Peuco, ...</td>\n",
       "      <td>False</td>\n",
       "    </tr>\n",
       "    <tr>\n",
       "      <th>1</th>\n",
       "      <td>Piñera para crear base de apoyo moderada a su ...</td>\n",
       "      <td>True</td>\n",
       "    </tr>\n",
       "    <tr>\n",
       "      <th>2</th>\n",
       "      <td>@CNNChile MEMORIA 2014 Adimark: Piñera termina...</td>\n",
       "      <td>True</td>\n",
       "    </tr>\n",
       "    <tr>\n",
       "      <th>3</th>\n",
       "      <td>PPK y Piñera en privado habrían conversado alg...</td>\n",
       "      <td>False</td>\n",
       "    </tr>\n",
       "    <tr>\n",
       "      <th>4</th>\n",
       "      <td>Bachelet entregará el gobierno de Chile a Piñera</td>\n",
       "      <td>True</td>\n",
       "    </tr>\n",
       "  </tbody>\n",
       "</table>\n",
       "</div>"
      ],
      "text/plain": [
       "                                               Texto  Interes\n",
       "0  Ojalá obliguen a Piñera a cerrar Punta Peuco, ...    False\n",
       "1  Piñera para crear base de apoyo moderada a su ...     True\n",
       "2  @CNNChile MEMORIA 2014 Adimark: Piñera termina...     True\n",
       "3  PPK y Piñera en privado habrían conversado alg...    False\n",
       "4   Bachelet entregará el gobierno de Chile a Piñera     True"
      ]
     },
     "execution_count": 43,
     "metadata": {},
     "output_type": "execute_result"
    }
   ],
   "source": [
    "#data = np.genfromtxt('data_format.csv', delimiter='')\n",
    "datos=pd.read_csv('data_format.csv')\n",
    "print(datos.shape)\n",
    "#pdb.set_trace()\n",
    "datos.head()"
   ]
  },
  {
   "cell_type": "markdown",
   "metadata": {},
   "source": [
    "## Limpiando strings"
   ]
  },
  {
   "cell_type": "markdown",
   "metadata": {},
   "source": [
    "### Reemplazar tildes, caracteres especiales, todo a minúsculas"
   ]
  },
  {
   "cell_type": "code",
   "execution_count": 42,
   "metadata": {},
   "outputs": [
    {
     "name": "stdout",
     "output_type": "stream",
     "text": [
      "(138,)\n"
     ]
    },
    {
     "data": {
      "text/plain": [
       "0    ojala obliguen a piñera a cerrar punta peuco e...\n",
       "1    piñera para crear base de apoyo moderada a su ...\n",
       "2    cnnchile memoria  adimark piñera termina su go...\n",
       "3    ppk y piñera en privado habrian conversado alg...\n",
       "4     bachelet entregara el gobierno de chile a piñera\n",
       "dtype: object"
      ]
     },
     "execution_count": 42,
     "metadata": {},
     "output_type": "execute_result"
    }
   ],
   "source": [
    "strings = datos.ix[:,0]\n",
    "tildes = ['á','é','í','ó','ú']\n",
    "vocales = ['a','e','i','o','u']\n",
    "\n",
    "# tildes\n",
    "for idx, vocal in enumerate(vocales):\n",
    "    strings = strings.str.replace(tildes[idx],vocal)\n",
    "\n",
    "# caracteres especiales menos la ñ\n",
    "strings = strings.str.replace('[^a-zñA-Z ]', \"\")\n",
    "\n",
    "# todo a minusculas\n",
    "strings = pd.Series(list(map(lambda x: x.lower(), strings)))\n",
    "print(strings.shape)\n",
    "strings.head()"
   ]
  },
  {
   "cell_type": "markdown",
   "metadata": {},
   "source": [
    "## Stemming"
   ]
  },
  {
   "cell_type": "code",
   "execution_count": 87,
   "metadata": {},
   "outputs": [],
   "source": [
    "stemmer = SpanishStemmer()\n",
    "\n",
    "# oracion a arreglo de strings\n",
    "strings_arr = list(map(lambda x: x.split(), strings))\n",
    "strings_arr = list(itertools.chain.from_iterable(strings_arr))\n",
    "root_arr = list(map(lambda x: stemmer.stem(x), strings_arr))\n",
    "\n",
    "def most_common(L):\n",
    "  # get an iterable of (item, iterable) pairs\n",
    "  SL = sorted((x, i) for i, x in enumerate(L))\n",
    "  list_pairs = []\n",
    "  #print('SL:', SL)\n",
    "  groups = itertools.groupby(SL, key=operator.itemgetter(0))\n",
    "  # auxiliary function to get \"quality\" for an item\n",
    "  def _auxfun(g):\n",
    "    item, iterable = g\n",
    "    count = 0\n",
    "    min_index = len(L)\n",
    "    for _, where in iterable:\n",
    "      count += 1\n",
    "      min_index = min(min_index, where)\n",
    "    list_pairs.append((item, count))\n",
    "    #print('item %r, count %r, minind %r' % (item, count, min_index))\n",
    "    return count, -min_index\n",
    "  # pick the highest-count/earliest item\n",
    "  return max(groups, key=_auxfun)[0], list_pairs\n",
    "\n",
    "most_common, list_pairs = most_common(root_arr)\n",
    "\n",
    "pares_filtrados = list(filter(lambda x: len(x[0]) > 2, list_pairs))\n",
    "\n",
    "common_roots_sorted = sorted(pares_filtrados, key=lambda tup: tup[1], reverse=True)\n",
    "#common_roots_sorted"
   ]
  }
 ],
 "metadata": {
  "kernelspec": {
   "display_name": "Python 3",
   "language": "python",
   "name": "python3"
  },
  "language_info": {
   "codemirror_mode": {
    "name": "ipython",
    "version": 3
   },
   "file_extension": ".py",
   "mimetype": "text/x-python",
   "name": "python",
   "nbconvert_exporter": "python",
   "pygments_lexer": "ipython3",
   "version": "3.5.2"
  }
 },
 "nbformat": 4,
 "nbformat_minor": 2
}
