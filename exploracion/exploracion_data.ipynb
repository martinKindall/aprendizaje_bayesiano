{
 "cells": [
  {
   "cell_type": "markdown",
   "metadata": {},
   "source": [
    "# Proyecto: Clasificación de tópicos de interés\n",
    "\n",
    "## Exploración de datos\n",
    "\n",
    "\n",
    "CC5113 - Aprendizaje Automático Bayesiano\n",
    "\n",
    "Profesor: Pablo Guerrero\n",
    "\n",
    "Autor: Martín Cornejo"
   ]
  },
  {
   "cell_type": "markdown",
   "metadata": {},
   "source": [
    "## Paquetes necesarios"
   ]
  },
  {
   "cell_type": "code",
   "execution_count": 1,
   "metadata": {},
   "outputs": [],
   "source": [
    "import numpy as np\n",
    "import matplotlib.pyplot as plt\n",
    "import pdb\n",
    "import itertools\n",
    "import operator\n",
    "\n",
    "import pandas as pd\n",
    "\n",
    "from nltk.stem.snowball import SpanishStemmer\n",
    "\n",
    "from sklearn.feature_extraction.text import CountVectorizer\n",
    "from sklearn.decomposition import LatentDirichletAllocation\n",
    "\n",
    "import pyLDAvis\n",
    "import pyLDAvis.sklearn\n",
    "pyLDAvis.enable_notebook()"
   ]
  },
  {
   "cell_type": "code",
   "execution_count": 2,
   "metadata": {
    "scrolled": true
   },
   "outputs": [
    {
     "name": "stdout",
     "output_type": "stream",
     "text": [
      "(138, 2)\n"
     ]
    },
    {
     "data": {
      "text/html": [
       "<div>\n",
       "<style scoped>\n",
       "    .dataframe tbody tr th:only-of-type {\n",
       "        vertical-align: middle;\n",
       "    }\n",
       "\n",
       "    .dataframe tbody tr th {\n",
       "        vertical-align: top;\n",
       "    }\n",
       "\n",
       "    .dataframe thead th {\n",
       "        text-align: right;\n",
       "    }\n",
       "</style>\n",
       "<table border=\"1\" class=\"dataframe\">\n",
       "  <thead>\n",
       "    <tr style=\"text-align: right;\">\n",
       "      <th></th>\n",
       "      <th>Texto</th>\n",
       "      <th>Interes</th>\n",
       "    </tr>\n",
       "  </thead>\n",
       "  <tbody>\n",
       "    <tr>\n",
       "      <th>0</th>\n",
       "      <td>Ojalá obliguen a Piñera a cerrar Punta Peuco, ...</td>\n",
       "      <td>False</td>\n",
       "    </tr>\n",
       "    <tr>\n",
       "      <th>1</th>\n",
       "      <td>Piñera para crear base de apoyo moderada a su ...</td>\n",
       "      <td>True</td>\n",
       "    </tr>\n",
       "    <tr>\n",
       "      <th>2</th>\n",
       "      <td>@CNNChile MEMORIA 2014 Adimark: Piñera termina...</td>\n",
       "      <td>True</td>\n",
       "    </tr>\n",
       "    <tr>\n",
       "      <th>3</th>\n",
       "      <td>PPK y Piñera en privado habrían conversado alg...</td>\n",
       "      <td>False</td>\n",
       "    </tr>\n",
       "    <tr>\n",
       "      <th>4</th>\n",
       "      <td>Bachelet entregará el gobierno de Chile a Piñera</td>\n",
       "      <td>True</td>\n",
       "    </tr>\n",
       "  </tbody>\n",
       "</table>\n",
       "</div>"
      ],
      "text/plain": [
       "                                               Texto  Interes\n",
       "0  Ojalá obliguen a Piñera a cerrar Punta Peuco, ...    False\n",
       "1  Piñera para crear base de apoyo moderada a su ...     True\n",
       "2  @CNNChile MEMORIA 2014 Adimark: Piñera termina...     True\n",
       "3  PPK y Piñera en privado habrían conversado alg...    False\n",
       "4   Bachelet entregará el gobierno de Chile a Piñera     True"
      ]
     },
     "execution_count": 2,
     "metadata": {},
     "output_type": "execute_result"
    }
   ],
   "source": [
    "datos=pd.read_csv('data_format.csv')\n",
    "print(datos.shape)\n",
    "datos.head()"
   ]
  },
  {
   "cell_type": "markdown",
   "metadata": {},
   "source": [
    "## Limpiando strings"
   ]
  },
  {
   "cell_type": "markdown",
   "metadata": {},
   "source": [
    "### Reemplazar tildes, caracteres especiales, todo a minúsculas"
   ]
  },
  {
   "cell_type": "code",
   "execution_count": 3,
   "metadata": {},
   "outputs": [
    {
     "name": "stdout",
     "output_type": "stream",
     "text": [
      "0    ojala obliguen a piñera a cerrar punta peuco e...\n",
      "1    piñera para crear base de apoyo moderada a su ...\n",
      "2    cnnchile memoria  adimark piñera termina su go...\n",
      "3    ppk y piñera en privado habrian conversado alg...\n",
      "4     bachelet entregara el gobierno de chile a piñera\n",
      "dtype: object\n"
     ]
    },
    {
     "name": "stderr",
     "output_type": "stream",
     "text": [
      "/usr/local/lib/python3.5/dist-packages/ipykernel_launcher.py:1: DeprecationWarning: \n",
      ".ix is deprecated. Please use\n",
      ".loc for label based indexing or\n",
      ".iloc for positional indexing\n",
      "\n",
      "See the documentation here:\n",
      "http://pandas.pydata.org/pandas-docs/stable/indexing.html#ix-indexer-is-deprecated\n",
      "  \"\"\"Entry point for launching an IPython kernel.\n"
     ]
    }
   ],
   "source": [
    "strings = datos.ix[:,0]\n",
    "\n",
    "def formatear(strings):\n",
    "    tildes = ['á','é','í','ó','ú']\n",
    "    vocales = ['a','e','i','o','u']\n",
    "\n",
    "    # tildes\n",
    "    for idx, vocal in enumerate(vocales):\n",
    "        strings = strings.str.replace(tildes[idx],vocal)\n",
    "\n",
    "    # caracteres especiales menos la ñ\n",
    "    strings = strings.str.replace('[^a-zñA-Z ]', \"\")\n",
    "\n",
    "    # todo a minusculas\n",
    "    strings = pd.Series(list(map(lambda x: x.lower(), strings)))\n",
    "    \n",
    "    return strings\n",
    "\n",
    "def oracionToStrArr(strings):\n",
    "    strings_arr = list(map(lambda x: x.split(), strings))\n",
    "    #pdb.set_trace()\n",
    "    strings_arr = list(itertools.chain.from_iterable(strings_arr))    \n",
    "    return strings_arr\n",
    "\n",
    "print(formatear(strings).head())\n",
    "formated_array_data = oracionToStrArr(formatear(strings))"
   ]
  },
  {
   "cell_type": "markdown",
   "metadata": {},
   "source": [
    "## Funciones auxiliares (conteo y ordenar repetidas)"
   ]
  },
  {
   "cell_type": "code",
   "execution_count": 4,
   "metadata": {},
   "outputs": [],
   "source": [
    "def most_common(str_arr):\n",
    "  # get an iterable of (item, iterable) pairs\n",
    "  SL = sorted((x, i) for i, x in enumerate(str_arr))\n",
    "  list_pairs = []\n",
    "  #print('SL:', SL)\n",
    "  groups = itertools.groupby(SL, key=operator.itemgetter(0))\n",
    "    \n",
    "  # auxiliary function to get \"quality\" for an item\n",
    "  def _auxfun(g):\n",
    "    item, iterable = g\n",
    "    count = 0\n",
    "    min_index = len(str_arr)\n",
    "    for _, where in iterable:\n",
    "      count += 1\n",
    "      min_index = min(min_index, where)\n",
    "    list_pairs.append((item, count))\n",
    "    #print('item %r, count %r, minind %r' % (item, count, min_index))\n",
    "    return count, -min_index\n",
    "\n",
    "  return max(groups, key=_auxfun)[0], list_pairs\n",
    "\n",
    "def aplicar_ordenar_str_arr(func, str_arr):\n",
    "    arr = list(map(func, str_arr))\n",
    "    common, pairs = most_common(arr)\n",
    "    pares_filtrados = list(filter(lambda x: len(x[0]) > 3, pairs))\n",
    "    common_sorted = sorted(pares_filtrados, key=lambda tup: tup[1], reverse=True)\n",
    "    return common_sorted"
   ]
  },
  {
   "cell_type": "markdown",
   "metadata": {},
   "source": [
    "## Separando data por clases"
   ]
  },
  {
   "cell_type": "code",
   "execution_count": 5,
   "metadata": {},
   "outputs": [
    {
     "name": "stderr",
     "output_type": "stream",
     "text": [
      "/usr/local/lib/python3.5/dist-packages/ipykernel_launcher.py:3: DeprecationWarning: \n",
      ".ix is deprecated. Please use\n",
      ".loc for label based indexing or\n",
      ".iloc for positional indexing\n",
      "\n",
      "See the documentation here:\n",
      "http://pandas.pydata.org/pandas-docs/stable/indexing.html#ix-indexer-is-deprecated\n",
      "  This is separate from the ipykernel package so we can avoid doing imports until\n",
      "/usr/local/lib/python3.5/dist-packages/ipykernel_launcher.py:7: DeprecationWarning: \n",
      ".ix is deprecated. Please use\n",
      ".loc for label based indexing or\n",
      ".iloc for positional indexing\n",
      "\n",
      "See the documentation here:\n",
      "http://pandas.pydata.org/pandas-docs/stable/indexing.html#ix-indexer-is-deprecated\n",
      "  import sys\n"
     ]
    }
   ],
   "source": [
    "datos_interes = datos[datos.Interes == True]\n",
    "#print(datos_interes.head())\n",
    "str_interes = datos_interes.ix[:,0]\n",
    "\n",
    "datos_no_interes = datos[datos.Interes == False]\n",
    "#print(datos_no_interes.head())\n",
    "str_no_interes = datos_no_interes.ix[:,0]"
   ]
  },
  {
   "cell_type": "markdown",
   "metadata": {},
   "source": [
    "## Stemming por clases"
   ]
  },
  {
   "cell_type": "code",
   "execution_count": 6,
   "metadata": {},
   "outputs": [
    {
     "data": {
      "text/plain": [
       "0           (piñer, 75)\n",
       "1       (president, 25)\n",
       "2         (sebasti, 23)\n",
       "3        (bachelet, 20)\n",
       "4            (chil, 20)\n",
       "5         (gobiern, 15)\n",
       "6             (mand, 9)\n",
       "7          (reunion, 8)\n",
       "8            (activ, 6)\n",
       "9             (asum, 6)\n",
       "10           (cambi, 6)\n",
       "11          (doming, 6)\n",
       "12            (esta, 6)\n",
       "13            (este, 6)\n",
       "14           (macri, 6)\n",
       "15           (mañan, 6)\n",
       "16            (nuev, 6)\n",
       "17            (pais, 6)\n",
       "18        (asuncion, 5)\n",
       "19           (cierr, 5)\n",
       "20          (derech, 5)\n",
       "21            (lleg, 5)\n",
       "22            (ahor, 4)\n",
       "23            (cerr, 4)\n",
       "24          (chilen, 4)\n",
       "25          (gobern, 4)\n",
       "26           (mejor, 4)\n",
       "27         (oficial, 4)\n",
       "28            (peuc, 4)\n",
       "29           (polit, 4)\n",
       "             ...       \n",
       "373           (serl, 1)\n",
       "374         (sistem, 1)\n",
       "375         (solemn, 1)\n",
       "376       (solucion, 1)\n",
       "377           (subs, 1)\n",
       "378        (sucesor, 1)\n",
       "379        (supuest, 1)\n",
       "380        (suramer, 1)\n",
       "381          (tambi, 1)\n",
       "382           (tant, 1)\n",
       "383    (tempranisim, 1)\n",
       "384          (tendr, 1)\n",
       "385          (titer, 1)\n",
       "386         (todavi, 1)\n",
       "387         (tramit, 1)\n",
       "388           (tras, 1)\n",
       "389      (trasandin, 1)\n",
       "390          (trist, 1)\n",
       "391           (twet, 1)\n",
       "392          (twitt, 1)\n",
       "393          (ultim, 1)\n",
       "394           (unos, 1)\n",
       "395           (valp, 1)\n",
       "396         (vendet, 1)\n",
       "397           (vide, 1)\n",
       "398           (viej, 1)\n",
       "399           (vien, 1)\n",
       "400          (vitor, 1)\n",
       "401          (vuelt, 1)\n",
       "402           (zurd, 1)\n",
       "Length: 403, dtype: object"
      ]
     },
     "execution_count": 6,
     "metadata": {},
     "output_type": "execute_result"
    }
   ],
   "source": [
    "stemmer_es = lambda x: SpanishStemmer().stem(x)\n",
    "\n",
    "stem_interes_ordenado = pd.Series(aplicar_ordenar_str_arr(stemmer_es,oracionToStrArr(formatear(str_interes))))\n",
    "stem_no_interes_ordenado = pd.Series(aplicar_ordenar_str_arr(stemmer_es,oracionToStrArr(formatear(str_no_interes))))\n",
    "\n",
    "stem_interes_ordenado"
   ]
  },
  {
   "cell_type": "code",
   "execution_count": 7,
   "metadata": {},
   "outputs": [
    {
     "data": {
      "text/plain": [
       "0               (piñer, 58)\n",
       "1              (sebasti, 7)\n",
       "2                 (bien, 6)\n",
       "3                (cuand, 6)\n",
       "4                 (esta, 6)\n",
       "5                 (peuc, 6)\n",
       "6                 (cerr, 5)\n",
       "7                 (punt, 5)\n",
       "8                 (ahor, 4)\n",
       "9                 (chil, 4)\n",
       "10               (cierr, 4)\n",
       "11             (academi, 3)\n",
       "12                (algo, 3)\n",
       "13            (bachelet, 3)\n",
       "14            (diplomat, 3)\n",
       "15                (lleg, 3)\n",
       "16               (penal, 3)\n",
       "17                (pier, 3)\n",
       "18               (quier, 3)\n",
       "19                (reun, 3)\n",
       "20                (abog, 2)\n",
       "21               (afirm, 2)\n",
       "22                (ayud, 2)\n",
       "23                (buen, 2)\n",
       "24     (cierrepuntapeuc, 2)\n",
       "25             (convers, 2)\n",
       "26               (culia, 2)\n",
       "27              (ejecut, 2)\n",
       "28            (eleccion, 2)\n",
       "29               (empez, 2)\n",
       "               ...         \n",
       "295               (suci, 1)\n",
       "296           (suddenly, 1)\n",
       "297               (suel, 1)\n",
       "298              (suert, 1)\n",
       "299             (tampoc, 1)\n",
       "300               (tant, 1)\n",
       "301               (teng, 1)\n",
       "302              (tiemp, 1)\n",
       "303               (tond, 1)\n",
       "304               (toqu, 1)\n",
       "305              (total, 1)\n",
       "306             (trabaj, 1)\n",
       "307            (traidor, 1)\n",
       "308               (trat, 1)\n",
       "309             (travaj, 1)\n",
       "310              (trump, 1)\n",
       "311              (twitt, 1)\n",
       "312              (ultim, 1)\n",
       "313            (vacanci, 1)\n",
       "314           (venezuel, 1)\n",
       "315             (ventil, 1)\n",
       "316             (victim, 1)\n",
       "317             (victon, 1)\n",
       "318           (violador, 1)\n",
       "319             (volver, 1)\n",
       "320              (volvi, 1)\n",
       "321               (weon, 1)\n",
       "322          (xkjskskfj, 1)\n",
       "323              (ziiii, 1)\n",
       "324            (zurdosn, 1)\n",
       "Length: 325, dtype: object"
      ]
     },
     "execution_count": 7,
     "metadata": {},
     "output_type": "execute_result"
    }
   ],
   "source": [
    "stem_no_interes_ordenado"
   ]
  },
  {
   "cell_type": "markdown",
   "metadata": {},
   "source": [
    "## Lematización"
   ]
  },
  {
   "cell_type": "code",
   "execution_count": 8,
   "metadata": {},
   "outputs": [],
   "source": [
    "def create_lemma_dict(filename):\n",
    "   with open(filename, 'r') as document:\n",
    "       lemma_dict = {}\n",
    "       for line in document:\n",
    "           if line.strip():  # avoid empty lines\n",
    "               value, key = line.split(None, 1) # 'None' means 'all whitespace', which is the default\n",
    "               key = key.rstrip() # rstrip() to get rid of \\r and \\n\n",
    "               lemma_dict[key] = value # adding the flections as keys to the dict\n",
    "               lemma_dict[value] = value # adding also the base word as a key\n",
    "   return lemma_dict\n",
    "\n",
    "def query_word(lemma_dict):\n",
    "   word = input(\"\\nDame una palabra en español -> \")\n",
    "   try:\n",
    "      lemma = lemma_dict[word]\n",
    "      print(\"__your happy lemma is__: {}\".format(lemma))\n",
    "   except KeyError:\n",
    "      print(\"This word is not in the dictionary!\")\n",
    "   return query_word(lemma_dict)\n",
    "\n",
    "def lemmatiser(dict):\n",
    "    def lookup(word):\n",
    "        try:\n",
    "            lemma = dict[word]\n",
    "        except:\n",
    "            lemma = word\n",
    "        \n",
    "        return lemma\n",
    "    \n",
    "    return lookup"
   ]
  },
  {
   "cell_type": "markdown",
   "metadata": {},
   "source": [
    "## Lematizando por clases"
   ]
  },
  {
   "cell_type": "code",
   "execution_count": 9,
   "metadata": {},
   "outputs": [
    {
     "name": "stderr",
     "output_type": "stream",
     "text": [
      "/usr/local/lib/python3.5/dist-packages/ipykernel_launcher.py:8: DeprecationWarning: \n",
      ".ix is deprecated. Please use\n",
      ".loc for label based indexing or\n",
      ".iloc for positional indexing\n",
      "\n",
      "See the documentation here:\n",
      "http://pandas.pydata.org/pandas-docs/stable/indexing.html#ix-indexer-is-deprecated\n",
      "  \n",
      "/usr/local/lib/python3.5/dist-packages/ipykernel_launcher.py:12: DeprecationWarning: \n",
      ".ix is deprecated. Please use\n",
      ".loc for label based indexing or\n",
      ".iloc for positional indexing\n",
      "\n",
      "See the documentation here:\n",
      "http://pandas.pydata.org/pandas-docs/stable/indexing.html#ix-indexer-is-deprecated\n",
      "  if sys.path[0] == '':\n"
     ]
    }
   ],
   "source": [
    "resource_file = 'lemmatization-es.txt'\n",
    "lemmatiser_es = lemmatiser(create_lemma_dict(resource_file))\n",
    "\n",
    "#pdb.set_trace()\n",
    "\n",
    "datos_interes = datos[datos.Interes == True]\n",
    "#print(datos_interes.head())\n",
    "str_interes = datos_interes.ix[:,0]\n",
    "\n",
    "datos_no_interes = datos[datos.Interes == False]\n",
    "#print(datos_no_interes.head())\n",
    "str_no_interes = datos_no_interes.ix[:,0]"
   ]
  },
  {
   "cell_type": "code",
   "execution_count": 10,
   "metadata": {},
   "outputs": [],
   "source": [
    "lema_interes_ordenado = pd.Series(aplicar_ordenar_str_arr(lemmatiser_es, oracionToStrArr(formatear(str_interes))))\n",
    "lema_no_interes_ordenado = pd.Series(aplicar_ordenar_str_arr(lemmatiser_es, oracionToStrArr(formatear(str_no_interes))))\n",
    "\n",
    "#lema_interes_ordenado"
   ]
  },
  {
   "cell_type": "code",
   "execution_count": 11,
   "metadata": {},
   "outputs": [],
   "source": [
    "#lema_no_interes_ordenado"
   ]
  },
  {
   "cell_type": "markdown",
   "metadata": {},
   "source": [
    "## Extracción de características usando sklearn"
   ]
  },
  {
   "cell_type": "code",
   "execution_count": 12,
   "metadata": {},
   "outputs": [],
   "source": [
    "stop_words_es = np.genfromtxt('stop_words_es.txt', dtype='str')\n",
    "stop_words_es = formatear(pd.Series(stop_words_es))\n",
    "stop_words_es = list(map(lambda x: x, stop_words_es))"
   ]
  },
  {
   "cell_type": "code",
   "execution_count": 13,
   "metadata": {},
   "outputs": [],
   "source": [
    "tf_vectorizer = CountVectorizer(min_df=2, max_features=15, stop_words=stop_words_es)\n",
    "data = formatear(strings)\n",
    "#pdb.set_trace()\n",
    "dtm_tf = tf_vectorizer.fit_transform(data)"
   ]
  },
  {
   "cell_type": "markdown",
   "metadata": {},
   "source": [
    "## Aplicando Latent Dirichlet Allocation"
   ]
  },
  {
   "cell_type": "code",
   "execution_count": 14,
   "metadata": {},
   "outputs": [],
   "source": [
    "def print_top_words(model, feature_names, n_top_words):\n",
    "    for topic_idx, topic in enumerate(model.components_):\n",
    "        message = \"Topic #%d: \" % topic_idx\n",
    "        #pdb.set_trace()\n",
    "        message += \" \".join([feature_names[i] + \" \" + str(int(topic[i])) + \" \"\n",
    "                             for i in topic.argsort()[:-n_top_words - 1:-1]])        \n",
    "        print(message)\n",
    "    print()"
   ]
  },
  {
   "cell_type": "code",
   "execution_count": 15,
   "metadata": {},
   "outputs": [],
   "source": [
    "lda = LatentDirichletAllocation(n_components=3, max_iter=100,\n",
    "                                learning_method='online',\n",
    "                                learning_offset=10,\n",
    "                                batch_size=10,\n",
    "                                random_state=1)"
   ]
  },
  {
   "cell_type": "code",
   "execution_count": 16,
   "metadata": {},
   "outputs": [
    {
     "name": "stdout",
     "output_type": "stream",
     "text": [
      "\n",
      "Topics in LDA model:\n",
      "Topic #0: piñera 30  sebastian 30  presidente 21  chile 10  mando 9  reunion 8 \n",
      "Topic #1: bachelet 23  piñera 17  peuco 10  punta 9  gobierno 7  cierre 7 \n",
      "Topic #2: piñera 85  chile 13  gobierno 8  mañana 8  domingo 0  reunion 0 \n",
      "\n"
     ]
    }
   ],
   "source": [
    "n_top_words = 6\n",
    "lda.fit(dtm_tf)\n",
    "print(\"\\nTopics in LDA model:\")\n",
    "tf_feature_names = tf_vectorizer.get_feature_names()\n",
    "print_top_words(lda, tf_feature_names, n_top_words)"
   ]
  },
  {
   "cell_type": "code",
   "execution_count": 17,
   "metadata": {},
   "outputs": [
    {
     "name": "stderr",
     "output_type": "stream",
     "text": [
      "/home/martin/.local/lib/python3.5/site-packages/pyLDAvis/_prepare.py:387: DeprecationWarning: \n",
      ".ix is deprecated. Please use\n",
      ".loc for label based indexing or\n",
      ".iloc for positional indexing\n",
      "\n",
      "See the documentation here:\n",
      "http://pandas.pydata.org/pandas-docs/stable/indexing.html#ix-indexer-is-deprecated\n",
      "  topic_term_dists = topic_term_dists.ix[topic_order]\n"
     ]
    },
    {
     "data": {
      "text/html": [
       "\n",
       "<link rel=\"stylesheet\" type=\"text/css\" href=\"https://cdn.rawgit.com/bmabey/pyLDAvis/files/ldavis.v1.0.0.css\">\n",
       "\n",
       "\n",
       "<div id=\"ldavis_el3026140427404059536712013901\"></div>\n",
       "<script type=\"text/javascript\">\n",
       "\n",
       "var ldavis_el3026140427404059536712013901_data = {\"R\": 15, \"plot.opts\": {\"ylab\": \"PC2\", \"xlab\": \"PC1\"}, \"mdsDat\": {\"x\": [-0.21263585594382278, -0.008266599791900274, 0.22090245573572317], \"topics\": [1, 2, 3], \"cluster\": [1, 1, 1], \"Freq\": [40.48708301174867, 32.18565304648479, 27.32726394176654], \"y\": [0.0770420883911891, -0.14574697640780065, 0.06870488801661147]}, \"topic.order\": [1, 3, 2], \"lambda.step\": 0.01, \"token.table\": {\"Topic\": [3, 1, 1, 2, 3, 1, 2, 3, 1, 1, 2, 3, 1, 2, 3, 1, 3, 1, 1], \"Freq\": [0.9885470501911253, 0.8899809150729047, 0.48877088150633324, 0.48877088150633324, 0.9384198905555887, 0.9013628976585701, 0.4280470948653179, 0.5503462648268372, 0.9241127614311676, 0.9362625325908158, 0.9138928460349203, 0.9103282575631294, 0.24520524174149014, 0.596666088237626, 0.15529665310294374, 0.953050308240936, 0.9087495283708465, 0.9248319978856097, 0.9682559395220728], \"Term\": [\"bachelet\", \"cambio\", \"chile\", \"chile\", \"cierre\", \"domingo\", \"gobierno\", \"gobierno\", \"macri\", \"mando\", \"ma\\u00f1ana\", \"peuco\", \"pi\\u00f1era\", \"pi\\u00f1era\", \"pi\\u00f1era\", \"presidente\", \"punta\", \"reunion\", \"sebastian\"]}, \"tinfo\": {\"loglift\": [15.0, 14.0, 13.0, 12.0, 11.0, 10.0, 9.0, 8.0, 7.0, 6.0, 5.0, 4.0, 3.0, 2.0, 1.0, 0.8815, 0.8735, 0.8325, 0.8249, 0.8138, 0.7999, 0.7959, 0.1544, -0.5162, -2.2012, -2.364, -2.6134, -2.7077, -2.9787, -3.4369, 1.0304, 0.6218, 0.4613, 0.342, -1.965, -2.0224, -2.1243, -2.2413, -2.2518, -2.3659, -2.5088, -2.605, -3.189, -3.3622, -3.4889, 1.2728, 1.2452, 1.2398, 1.2226, 0.6554, -0.5417, -1.5589, -1.5776, -1.6343, -1.7396, -1.8733, -1.9489, -2.7754, -2.7792, -3.0744], \"Total\": [26.0, 29.0, 122.0, 22.0, 12.0, 11.0, 8.0, 16.0, 22.0, 7.0, 9.0, 8.0, 7.0, 6.0, 6.0, 29.950758695386142, 22.034513622644035, 9.612688414536139, 8.650219735357277, 7.574833172046174, 6.741717601335864, 6.656586393322745, 22.505432332833166, 122.3464873219463, 7.659541302211405, 8.524968492796571, 11.00413225845346, 12.083553277194817, 16.35334075144816, 26.30122662848791, 7.659541302211405, 122.3464873219463, 22.505432332833166, 16.35334075144816, 6.656586393322745, 6.741717601335864, 7.574833172046174, 8.650219735357277, 8.524968492796571, 9.612688414536139, 11.00413225845346, 12.083553277194817, 22.034513622644035, 26.30122662848791, 29.950758695386142, 26.30122662848791, 12.083553277194817, 11.00413225845346, 8.524968492796571, 16.35334075144816, 122.3464873219463, 6.656586393322745, 6.741717601335864, 7.659541302211405, 7.574833172046174, 8.650219735357277, 9.612688414536139, 22.505432332833166, 22.034513622644035, 29.950758695386142], \"Category\": [\"Default\", \"Default\", \"Default\", \"Default\", \"Default\", \"Default\", \"Default\", \"Default\", \"Default\", \"Default\", \"Default\", \"Default\", \"Default\", \"Default\", \"Default\", \"Topic1\", \"Topic1\", \"Topic1\", \"Topic1\", \"Topic1\", \"Topic1\", \"Topic1\", \"Topic1\", \"Topic1\", \"Topic1\", \"Topic1\", \"Topic1\", \"Topic1\", \"Topic1\", \"Topic1\", \"Topic2\", \"Topic2\", \"Topic2\", \"Topic2\", \"Topic2\", \"Topic2\", \"Topic2\", \"Topic2\", \"Topic2\", \"Topic2\", \"Topic2\", \"Topic2\", \"Topic2\", \"Topic2\", \"Topic2\", \"Topic3\", \"Topic3\", \"Topic3\", \"Topic3\", \"Topic3\", \"Topic3\", \"Topic3\", \"Topic3\", \"Topic3\", \"Topic3\", \"Topic3\", \"Topic3\", \"Topic3\", \"Topic3\", \"Topic3\"], \"logprob\": [15.0, 14.0, 13.0, 12.0, 11.0, 10.0, 9.0, 8.0, 7.0, 6.0, 5.0, 4.0, 3.0, 2.0, 1.0, -1.481, -1.796, -2.6664, -2.7795, -2.9234, -3.0538, -3.0705, -2.4939, -1.4714, -5.9273, -5.9831, -5.9771, -5.9779, -5.9463, -5.9294, -2.6957, -0.3334, -2.187, -2.6256, -5.8315, -5.8761, -5.8615, -5.8457, -5.8709, -5.8649, -5.8726, -5.8752, -5.8585, -5.8546, -5.8514, -1.2196, -2.025, -2.124, -2.3964, -2.3122, -1.4969, -5.4254, -5.4313, -5.3604, -5.4769, -5.4778, -5.4479, -5.4236, -5.4487, -5.4369], \"Freq\": [26.0, 29.0, 122.0, 22.0, 12.0, 11.0, 8.0, 16.0, 22.0, 7.0, 9.0, 8.0, 7.0, 6.0, 6.0, 29.278148631481006, 21.368390776635195, 8.94813884786586, 7.991074553391907, 6.919996357489864, 6.074162271056044, 5.9736525586475455, 10.63312906710493, 29.56243848773454, 0.3432003106458321, 0.32457843032662254, 0.32651889233578135, 0.32626405090949995, 0.33674272519993986, 0.34248801653629063, 6.907980611853036, 73.3339781400538, 11.488981416295303, 7.409893419609386, 0.3002771517183951, 0.2871576192622393, 0.2913797836552164, 0.2960227494148695, 0.2886751999366475, 0.2904042643728552, 0.28817216190740913, 0.2874286383391826, 0.2922777203999575, 0.29341001716556836, 0.29433779383782377, 25.66532859478605, 11.469860587946133, 10.38944120421027, 7.911714862533301, 8.606704606638836, 19.450070694157954, 0.3826566829568036, 0.3803977110175816, 0.4083603797125374, 0.36345703090109344, 0.3631224325505009, 0.3741453022974253, 0.3833218494329304, 0.37384512560888195, 0.3782722700673145], \"Term\": [\"bachelet\", \"sebastian\", \"pi\\u00f1era\", \"presidente\", \"peuco\", \"punta\", \"cierre\", \"gobierno\", \"chile\", \"ma\\u00f1ana\", \"mando\", \"reunion\", \"macri\", \"cambio\", \"domingo\", \"sebastian\", \"presidente\", \"mando\", \"reunion\", \"macri\", \"cambio\", \"domingo\", \"chile\", \"pi\\u00f1era\", \"ma\\u00f1ana\", \"cierre\", \"punta\", \"peuco\", \"gobierno\", \"bachelet\", \"ma\\u00f1ana\", \"pi\\u00f1era\", \"chile\", \"gobierno\", \"domingo\", \"cambio\", \"macri\", \"reunion\", \"cierre\", \"mando\", \"punta\", \"peuco\", \"presidente\", \"bachelet\", \"sebastian\", \"bachelet\", \"peuco\", \"punta\", \"cierre\", \"gobierno\", \"pi\\u00f1era\", \"domingo\", \"cambio\", \"ma\\u00f1ana\", \"macri\", \"reunion\", \"mando\", \"chile\", \"presidente\", \"sebastian\"]}};\n",
       "\n",
       "function LDAvis_load_lib(url, callback){\n",
       "  var s = document.createElement('script');\n",
       "  s.src = url;\n",
       "  s.async = true;\n",
       "  s.onreadystatechange = s.onload = callback;\n",
       "  s.onerror = function(){console.warn(\"failed to load library \" + url);};\n",
       "  document.getElementsByTagName(\"head\")[0].appendChild(s);\n",
       "}\n",
       "\n",
       "if(typeof(LDAvis) !== \"undefined\"){\n",
       "   // already loaded: just create the visualization\n",
       "   !function(LDAvis){\n",
       "       new LDAvis(\"#\" + \"ldavis_el3026140427404059536712013901\", ldavis_el3026140427404059536712013901_data);\n",
       "   }(LDAvis);\n",
       "}else if(typeof define === \"function\" && define.amd){\n",
       "   // require.js is available: use it to load d3/LDAvis\n",
       "   require.config({paths: {d3: \"https://cdnjs.cloudflare.com/ajax/libs/d3/3.5.5/d3.min\"}});\n",
       "   require([\"d3\"], function(d3){\n",
       "      window.d3 = d3;\n",
       "      LDAvis_load_lib(\"https://cdn.rawgit.com/bmabey/pyLDAvis/files/ldavis.v1.0.0.js\", function(){\n",
       "        new LDAvis(\"#\" + \"ldavis_el3026140427404059536712013901\", ldavis_el3026140427404059536712013901_data);\n",
       "      });\n",
       "    });\n",
       "}else{\n",
       "    // require.js not available: dynamically load d3 & LDAvis\n",
       "    LDAvis_load_lib(\"https://cdnjs.cloudflare.com/ajax/libs/d3/3.5.5/d3.min.js\", function(){\n",
       "         LDAvis_load_lib(\"https://cdn.rawgit.com/bmabey/pyLDAvis/files/ldavis.v1.0.0.js\", function(){\n",
       "                 new LDAvis(\"#\" + \"ldavis_el3026140427404059536712013901\", ldavis_el3026140427404059536712013901_data);\n",
       "            })\n",
       "         });\n",
       "}\n",
       "</script>"
      ],
      "text/plain": [
       "PreparedData(topic_coordinates=            Freq  cluster  topics         x         y\n",
       "topic                                                \n",
       "0      40.487083        1       1 -0.212636  0.077042\n",
       "2      32.185653        1       2 -0.008267 -0.145747\n",
       "1      27.327264        1       3  0.220902  0.068705, topic_info=     Category        Freq        Term       Total  loglift  logprob\n",
       "term                                                               \n",
       "0     Default   26.000000    bachelet   26.000000  15.0000  15.0000\n",
       "14    Default   29.000000   sebastian   29.000000  14.0000  14.0000\n",
       "10    Default  122.000000      piñera  122.000000  13.0000  13.0000\n",
       "11    Default   22.000000  presidente   22.000000  12.0000  12.0000\n",
       "9     Default   12.000000       peuco   12.000000  11.0000  11.0000\n",
       "12    Default   11.000000       punta   11.000000  10.0000  10.0000\n",
       "3     Default    8.000000      cierre    8.000000   9.0000   9.0000\n",
       "5     Default   16.000000    gobierno   16.000000   8.0000   8.0000\n",
       "2     Default   22.000000       chile   22.000000   7.0000   7.0000\n",
       "8     Default    7.000000      mañana    7.000000   6.0000   6.0000\n",
       "7     Default    9.000000       mando    9.000000   5.0000   5.0000\n",
       "13    Default    8.000000     reunion    8.000000   4.0000   4.0000\n",
       "6     Default    7.000000       macri    7.000000   3.0000   3.0000\n",
       "1     Default    6.000000      cambio    6.000000   2.0000   2.0000\n",
       "4     Default    6.000000     domingo    6.000000   1.0000   1.0000\n",
       "14     Topic1   29.278149   sebastian   29.950759   0.8815  -1.4810\n",
       "11     Topic1   21.368391  presidente   22.034514   0.8735  -1.7960\n",
       "7      Topic1    8.948139       mando    9.612688   0.8325  -2.6664\n",
       "13     Topic1    7.991075     reunion    8.650220   0.8249  -2.7795\n",
       "6      Topic1    6.919996       macri    7.574833   0.8138  -2.9234\n",
       "1      Topic1    6.074162      cambio    6.741718   0.7999  -3.0538\n",
       "4      Topic1    5.973653     domingo    6.656586   0.7959  -3.0705\n",
       "2      Topic1   10.633129       chile   22.505432   0.1544  -2.4939\n",
       "10     Topic1   29.562438      piñera  122.346487  -0.5162  -1.4714\n",
       "8      Topic1    0.343200      mañana    7.659541  -2.2012  -5.9273\n",
       "3      Topic1    0.324578      cierre    8.524968  -2.3640  -5.9831\n",
       "12     Topic1    0.326519       punta   11.004132  -2.6134  -5.9771\n",
       "9      Topic1    0.326264       peuco   12.083553  -2.7077  -5.9779\n",
       "5      Topic1    0.336743    gobierno   16.353341  -2.9787  -5.9463\n",
       "0      Topic1    0.342488    bachelet   26.301227  -3.4369  -5.9294\n",
       "8      Topic2    6.907981      mañana    7.659541   1.0304  -2.6957\n",
       "10     Topic2   73.333978      piñera  122.346487   0.6218  -0.3334\n",
       "2      Topic2   11.488981       chile   22.505432   0.4613  -2.1870\n",
       "5      Topic2    7.409893    gobierno   16.353341   0.3420  -2.6256\n",
       "4      Topic2    0.300277     domingo    6.656586  -1.9650  -5.8315\n",
       "1      Topic2    0.287158      cambio    6.741718  -2.0224  -5.8761\n",
       "6      Topic2    0.291380       macri    7.574833  -2.1243  -5.8615\n",
       "13     Topic2    0.296023     reunion    8.650220  -2.2413  -5.8457\n",
       "3      Topic2    0.288675      cierre    8.524968  -2.2518  -5.8709\n",
       "7      Topic2    0.290404       mando    9.612688  -2.3659  -5.8649\n",
       "12     Topic2    0.288172       punta   11.004132  -2.5088  -5.8726\n",
       "9      Topic2    0.287429       peuco   12.083553  -2.6050  -5.8752\n",
       "11     Topic2    0.292278  presidente   22.034514  -3.1890  -5.8585\n",
       "0      Topic2    0.293410    bachelet   26.301227  -3.3622  -5.8546\n",
       "14     Topic2    0.294338   sebastian   29.950759  -3.4889  -5.8514\n",
       "0      Topic3   25.665329    bachelet   26.301227   1.2728  -1.2196\n",
       "9      Topic3   11.469861       peuco   12.083553   1.2452  -2.0250\n",
       "12     Topic3   10.389441       punta   11.004132   1.2398  -2.1240\n",
       "3      Topic3    7.911715      cierre    8.524968   1.2226  -2.3964\n",
       "5      Topic3    8.606705    gobierno   16.353341   0.6554  -2.3122\n",
       "10     Topic3   19.450071      piñera  122.346487  -0.5417  -1.4969\n",
       "4      Topic3    0.382657     domingo    6.656586  -1.5589  -5.4254\n",
       "1      Topic3    0.380398      cambio    6.741718  -1.5776  -5.4313\n",
       "8      Topic3    0.408360      mañana    7.659541  -1.6343  -5.3604\n",
       "6      Topic3    0.363457       macri    7.574833  -1.7396  -5.4769\n",
       "13     Topic3    0.363122     reunion    8.650220  -1.8733  -5.4778\n",
       "7      Topic3    0.374145       mando    9.612688  -1.9489  -5.4479\n",
       "2      Topic3    0.383322       chile   22.505432  -2.7754  -5.4236\n",
       "11     Topic3    0.373845  presidente   22.034514  -2.7792  -5.4487\n",
       "14     Topic3    0.378272   sebastian   29.950759  -3.0744  -5.4369, token_table=      Topic      Freq        Term\n",
       "term                             \n",
       "0         3  0.988547    bachelet\n",
       "1         1  0.889981      cambio\n",
       "2         1  0.488771       chile\n",
       "2         2  0.488771       chile\n",
       "3         3  0.938420      cierre\n",
       "4         1  0.901363     domingo\n",
       "5         2  0.428047    gobierno\n",
       "5         3  0.550346    gobierno\n",
       "6         1  0.924113       macri\n",
       "7         1  0.936263       mando\n",
       "8         2  0.913893      mañana\n",
       "9         3  0.910328       peuco\n",
       "10        1  0.245205      piñera\n",
       "10        2  0.596666      piñera\n",
       "10        3  0.155297      piñera\n",
       "11        1  0.953050  presidente\n",
       "12        3  0.908750       punta\n",
       "13        1  0.924832     reunion\n",
       "14        1  0.968256   sebastian, R=15, lambda_step=0.01, plot_opts={'ylab': 'PC2', 'xlab': 'PC1'}, topic_order=[1, 3, 2])"
      ]
     },
     "execution_count": 17,
     "metadata": {},
     "output_type": "execute_result"
    }
   ],
   "source": [
    "pyLDAvis.sklearn.prepare(lda, dtm_tf, tf_vectorizer)"
   ]
  }
 ],
 "metadata": {
  "kernelspec": {
   "display_name": "Python 3",
   "language": "python",
   "name": "python3"
  },
  "language_info": {
   "codemirror_mode": {
    "name": "ipython",
    "version": 3
   },
   "file_extension": ".py",
   "mimetype": "text/x-python",
   "name": "python",
   "nbconvert_exporter": "python",
   "pygments_lexer": "ipython3",
   "version": "3.5.2"
  }
 },
 "nbformat": 4,
 "nbformat_minor": 2
}
